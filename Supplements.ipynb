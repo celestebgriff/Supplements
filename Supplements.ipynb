{
  "nbformat": 4,
  "nbformat_minor": 0,
  "metadata": {
    "colab": {
      "name": "Supplements",
      "provenance": [],
      "include_colab_link": true
    },
    "kernelspec": {
      "name": "python3",
      "display_name": "Python 3"
    }
  },
  "cells": [
    {
      "cell_type": "markdown",
      "metadata": {
        "id": "view-in-github",
        "colab_type": "text"
      },
      "source": [
        "<a href=\"https://colab.research.google.com/github/celestebgriff/Supplements/blob/master/Supplements.ipynb\" target=\"_parent\"><img src=\"https://colab.research.google.com/assets/colab-badge.svg\" alt=\"Open In Colab\"/></a>"
      ]
    },
    {
      "cell_type": "markdown",
      "metadata": {
        "id": "HUPKgZ9n0wL-",
        "colab_type": "text"
      },
      "source": [
        "##Loading Libraries"
      ]
    },
    {
      "cell_type": "code",
      "metadata": {
        "id": "IV_PXb-l9gh-",
        "colab_type": "code",
        "colab": {}
      },
      "source": [
        "# Loading pandas, numpy, matplotlib\n",
        "import pandas as pd\n",
        "import numpy as np\n",
        "import matplotlib.pyplot as plt\n",
        "import matplotlib.image as image"
      ],
      "execution_count": 0,
      "outputs": []
    },
    {
      "cell_type": "markdown",
      "metadata": {
        "id": "4RflJeti1Eui",
        "colab_type": "text"
      },
      "source": [
        "##Loading datasets"
      ]
    },
    {
      "cell_type": "code",
      "metadata": {
        "id": "dHSU1cTz9rOS",
        "colab_type": "code",
        "colab": {}
      },
      "source": [
        "#loading ingrediants starting with letter A\n",
        "a = pd.read_csv('supplements_a.csv')"
      ],
      "execution_count": 0,
      "outputs": []
    },
    {
      "cell_type": "code",
      "metadata": {
        "id": "nxemF2R9MMjI",
        "colab_type": "code",
        "colab": {}
      },
      "source": [
        "#loading ingrediants starting with letter B\n",
        "b = pd.read_csv('supplements_b.csv',encoding='UTF-16')"
      ],
      "execution_count": 0,
      "outputs": []
    },
    {
      "cell_type": "code",
      "metadata": {
        "id": "KG_Moq1x-FOl",
        "colab_type": "code",
        "colab": {}
      },
      "source": [
        "#loading ingrediants starting with letter C\n",
        "c = pd.read_csv('supplements_c.csv')"
      ],
      "execution_count": 0,
      "outputs": []
    },
    {
      "cell_type": "code",
      "metadata": {
        "id": "SPBojQaf-uIK",
        "colab_type": "code",
        "colab": {}
      },
      "source": [
        "#loading ingrediants starting with letter D\n",
        "d = pd.read_csv('supplements_d.csv')"
      ],
      "execution_count": 0,
      "outputs": []
    },
    {
      "cell_type": "code",
      "metadata": {
        "id": "LvWuULWe-yGl",
        "colab_type": "code",
        "colab": {}
      },
      "source": [
        "#loading ingrediants starting with letter E\n",
        "e = pd.read_csv('supplements_e.csv')"
      ],
      "execution_count": 0,
      "outputs": []
    },
    {
      "cell_type": "code",
      "metadata": {
        "id": "DcpnUGJ4PAnP",
        "colab_type": "code",
        "colab": {}
      },
      "source": [
        "#loading ingrediants starting with letter F\n",
        "f = pd.read_csv('supplements_f.csv',encoding='UTF-16')"
      ],
      "execution_count": 0,
      "outputs": []
    },
    {
      "cell_type": "code",
      "metadata": {
        "id": "Sb0sY8GVPAbL",
        "colab_type": "code",
        "colab": {}
      },
      "source": [
        "#loading ingrediants starting with letter G\n",
        "g = pd.read_csv('supplements_g.csv',encoding='UTF-16')"
      ],
      "execution_count": 0,
      "outputs": []
    },
    {
      "cell_type": "code",
      "metadata": {
        "id": "BFOvz_Ff-0Ce",
        "colab_type": "code",
        "colab": {}
      },
      "source": [
        "#loading ingrediants starting with letter H\n",
        "h = pd.read_csv('supplements_h.csv')"
      ],
      "execution_count": 0,
      "outputs": []
    },
    {
      "cell_type": "code",
      "metadata": {
        "id": "M3RqIr-HAG3k",
        "colab_type": "code",
        "colab": {}
      },
      "source": [
        "#loading ingrediants starting with letter I\n",
        "i = pd.read_csv('supplements_i.csv')"
      ],
      "execution_count": 0,
      "outputs": []
    },
    {
      "cell_type": "code",
      "metadata": {
        "id": "8Mi4wx3TAMiL",
        "colab_type": "code",
        "colab": {}
      },
      "source": [
        "#loading ingrediants starting with letter J\n",
        "j = pd.read_csv('supplements_j.csv')"
      ],
      "execution_count": 0,
      "outputs": []
    },
    {
      "cell_type": "code",
      "metadata": {
        "id": "QG7XkOadEJln",
        "colab_type": "code",
        "colab": {}
      },
      "source": [
        "#loading ingrediants starting with letter K\n",
        "k = pd.read_csv('supplements_k.csv')"
      ],
      "execution_count": 0,
      "outputs": []
    },
    {
      "cell_type": "code",
      "metadata": {
        "id": "Dbh6yDduELUA",
        "colab_type": "code",
        "colab": {}
      },
      "source": [
        "#loading ingrediants starting with letter L\n",
        "l = pd.read_csv('supplements_l.csv')"
      ],
      "execution_count": 0,
      "outputs": []
    },
    {
      "cell_type": "code",
      "metadata": {
        "id": "zgWYuPT9EM3l",
        "colab_type": "code",
        "colab": {}
      },
      "source": [
        "#loading ingrediants starting with letter M\n",
        "m = pd.read_csv('supplements_m.csv')"
      ],
      "execution_count": 0,
      "outputs": []
    },
    {
      "cell_type": "code",
      "metadata": {
        "id": "OuAYZLGGEOjE",
        "colab_type": "code",
        "colab": {}
      },
      "source": [
        "#loading ingrediants starting with letter N\n",
        "n = pd.read_csv('supplements_n.csv')"
      ],
      "execution_count": 0,
      "outputs": []
    },
    {
      "cell_type": "code",
      "metadata": {
        "id": "-C5YMWZ6EQN_",
        "colab_type": "code",
        "colab": {}
      },
      "source": [
        "#loading ingrediants starting with letter O\n",
        "o = pd.read_csv('supplements_o.csv')"
      ],
      "execution_count": 0,
      "outputs": []
    },
    {
      "cell_type": "code",
      "metadata": {
        "id": "ErXiRxGSPUra",
        "colab_type": "code",
        "colab": {}
      },
      "source": [
        "#loading ingrediants starting with letter P\n",
        "p = pd.read_csv('supplements_p.csv',encoding='UTF-16')"
      ],
      "execution_count": 0,
      "outputs": []
    },
    {
      "cell_type": "code",
      "metadata": {
        "id": "elxPnYvbER1k",
        "colab_type": "code",
        "colab": {}
      },
      "source": [
        "#loading ingrediants starting with letter Q\n",
        "q = pd.read_csv('supplements_q.csv')"
      ],
      "execution_count": 0,
      "outputs": []
    },
    {
      "cell_type": "code",
      "metadata": {
        "id": "PLZ5RyuGEUSm",
        "colab_type": "code",
        "colab": {}
      },
      "source": [
        "#loading ingrediants starting with letter R\n",
        "r = pd.read_csv('supplements_r.csv')"
      ],
      "execution_count": 0,
      "outputs": []
    },
    {
      "cell_type": "code",
      "metadata": {
        "id": "moYFK3GXPYLx",
        "colab_type": "code",
        "colab": {}
      },
      "source": [
        "#loading ingrediants starting with letter S\n",
        "s = pd.read_csv('supplements_s.csv',encoding='UTF-16')"
      ],
      "execution_count": 0,
      "outputs": []
    },
    {
      "cell_type": "code",
      "metadata": {
        "id": "U2E4HIHjPanb",
        "colab_type": "code",
        "colab": {}
      },
      "source": [
        "#loading ingrediants starting with letter T\n",
        "t = pd.read_csv('supplements_t.csv',encoding='UTF-16')"
      ],
      "execution_count": 0,
      "outputs": []
    },
    {
      "cell_type": "code",
      "metadata": {
        "id": "EoFr0MrAEeHj",
        "colab_type": "code",
        "colab": {}
      },
      "source": [
        "#loading ingrediants starting with letter U\n",
        "u = pd.read_csv('supplements_u.csv')"
      ],
      "execution_count": 0,
      "outputs": []
    },
    {
      "cell_type": "code",
      "metadata": {
        "id": "By1gGE1pPewb",
        "colab_type": "code",
        "colab": {}
      },
      "source": [
        "#loading ingrediants starting with letter V\n",
        "v = pd.read_csv('supplements_v.csv',encoding='UTF-16')"
      ],
      "execution_count": 0,
      "outputs": []
    },
    {
      "cell_type": "code",
      "metadata": {
        "id": "hdbZJQ34Eff8",
        "colab_type": "code",
        "colab": {}
      },
      "source": [
        "#loading ingrediants starting with letter W\n",
        "w = pd.read_csv('supplements_w.csv')"
      ],
      "execution_count": 0,
      "outputs": []
    },
    {
      "cell_type": "code",
      "metadata": {
        "id": "uAl4LD66EndV",
        "colab_type": "code",
        "colab": {}
      },
      "source": [
        "#loading ingrediants starting with letter X\n",
        "x = pd.read_csv('supplements_x.csv')"
      ],
      "execution_count": 0,
      "outputs": []
    },
    {
      "cell_type": "code",
      "metadata": {
        "id": "izRmqkZZEvJD",
        "colab_type": "code",
        "colab": {}
      },
      "source": [
        "#loading ingrediants starting with letter Y\n",
        "y = pd.read_csv('supplements_y.csv')"
      ],
      "execution_count": 0,
      "outputs": []
    },
    {
      "cell_type": "code",
      "metadata": {
        "id": "tWYSDUZ-Ew4-",
        "colab_type": "code",
        "colab": {}
      },
      "source": [
        "#loading ingrediants starting with letter Z\n",
        "z = pd.read_csv('supplements_z.csv')"
      ],
      "execution_count": 0,
      "outputs": []
    },
    {
      "cell_type": "code",
      "metadata": {
        "id": "h2G81m7ZEyro",
        "colab_type": "code",
        "colab": {}
      },
      "source": [
        "#loading ingrediants starting with numbers\n",
        "num = pd.read_csv('supplements_num.csv')"
      ],
      "execution_count": 0,
      "outputs": []
    },
    {
      "cell_type": "markdown",
      "metadata": {
        "id": "yXwwF49x1b_G",
        "colab_type": "text"
      },
      "source": [
        "#Create one dataframe"
      ]
    },
    {
      "cell_type": "code",
      "metadata": {
        "id": "Az3SkPDwFELZ",
        "colab_type": "code",
        "colab": {}
      },
      "source": [
        "# Concatenate all dataframes together\n",
        "df = pd.concat([a,b,c,d,e,f,g,h,i,j,k,l,m,n,o,p,q,r,s,t,u,v,w,x,y,z,num])"
      ],
      "execution_count": 0,
      "outputs": []
    },
    {
      "cell_type": "markdown",
      "metadata": {
        "id": "V-uH252i2BoY",
        "colab_type": "text"
      },
      "source": [
        "##Clean Dataframe"
      ]
    },
    {
      "cell_type": "code",
      "metadata": {
        "id": "bAbxffXYGqrb",
        "colab_type": "code",
        "colab": {}
      },
      "source": [
        "# Drop columns we wont use\n",
        "df1 = df.drop(['Ingredient - Group ID', '# of Synonyms /Sources', '# of NHANES Products'], axis=1)"
      ],
      "execution_count": 0,
      "outputs": []
    },
    {
      "cell_type": "code",
      "metadata": {
        "id": "xf-ntjd1Nheb",
        "colab_type": "code",
        "outputId": "9b41caf9-f26e-411e-cb29-4352eb49cce8",
        "colab": {
          "base_uri": "https://localhost:8080/",
          "height": 194
        }
      },
      "source": [
        "# Check if change occured\n",
        "df1.head()"
      ],
      "execution_count": 0,
      "outputs": [
        {
          "output_type": "execute_result",
          "data": {
            "text/html": [
              "<div>\n",
              "<style scoped>\n",
              "    .dataframe tbody tr th:only-of-type {\n",
              "        vertical-align: middle;\n",
              "    }\n",
              "\n",
              "    .dataframe tbody tr th {\n",
              "        vertical-align: top;\n",
              "    }\n",
              "\n",
              "    .dataframe thead th {\n",
              "        text-align: right;\n",
              "    }\n",
              "</style>\n",
              "<table border=\"1\" class=\"dataframe\">\n",
              "  <thead>\n",
              "    <tr style=\"text-align: right;\">\n",
              "      <th></th>\n",
              "      <th>Ingredient - Group Name</th>\n",
              "      <th>CATEGORY</th>\n",
              "      <th>Synonyms/Sources</th>\n",
              "      <th># of Products</th>\n",
              "    </tr>\n",
              "  </thead>\n",
              "  <tbody>\n",
              "    <tr>\n",
              "      <th>0</th>\n",
              "      <td>Abrotanum</td>\n",
              "      <td>Botanical</td>\n",
              "      <td>\"Abrotanum 10x, 30x &amp; LM1\"</td>\n",
              "      <td>1.0</td>\n",
              "    </tr>\n",
              "    <tr>\n",
              "      <th>1</th>\n",
              "      <td>Abutua</td>\n",
              "      <td>Botanical</td>\n",
              "      <td>\"Abutua\"</td>\n",
              "      <td>1.0</td>\n",
              "    </tr>\n",
              "    <tr>\n",
              "      <th>2</th>\n",
              "      <td>Acacia</td>\n",
              "      <td>Botanical</td>\n",
              "      <td>\"100% certified organic Acacia gum powder\";\"Ac...</td>\n",
              "      <td>219.0</td>\n",
              "    </tr>\n",
              "    <tr>\n",
              "      <th>3</th>\n",
              "      <td>Acacia fiber</td>\n",
              "      <td>fiber</td>\n",
              "      <td>\"Acacia Fiber\";\"Acacia Fiber powder\";\"Acacia g...</td>\n",
              "      <td>57.0</td>\n",
              "    </tr>\n",
              "    <tr>\n",
              "      <th>4</th>\n",
              "      <td>Acai</td>\n",
              "      <td>Botanical</td>\n",
              "      <td>\"100% Pure Organic Acai berry juice\";\"Acai\";\"A...</td>\n",
              "      <td>963.0</td>\n",
              "    </tr>\n",
              "  </tbody>\n",
              "</table>\n",
              "</div>"
            ],
            "text/plain": [
              "  Ingredient - Group Name  ... # of Products\n",
              "0               Abrotanum  ...           1.0\n",
              "1                  Abutua  ...           1.0\n",
              "2                  Acacia  ...         219.0\n",
              "3            Acacia fiber  ...          57.0\n",
              "4                    Acai  ...         963.0\n",
              "\n",
              "[5 rows x 4 columns]"
            ]
          },
          "metadata": {
            "tags": []
          },
          "execution_count": 258
        }
      ]
    },
    {
      "cell_type": "code",
      "metadata": {
        "id": "4i_9oKxuPrCT",
        "colab_type": "code",
        "outputId": "39aabe5b-dde4-4f40-e058-e9ee4fc4df73",
        "colab": {
          "base_uri": "https://localhost:8080/",
          "height": 195
        }
      },
      "source": [
        "#check how many categories there are\n",
        "df1['CATEGORY'].unique()"
      ],
      "execution_count": 0,
      "outputs": [
        {
          "output_type": "execute_result",
          "data": {
            "text/plain": [
              "array(['Botanical', 'fiber', 'Other', 'Chemical', 'chemical', 'Bacteria',\n",
              "       'botanical', 'other', 'animal part or source', 'Amino Acid',\n",
              "       'amino acid', 'protein', 'TBD', 'fat', 'enzyme', 'Protein',\n",
              "       'Fiber', 'Fatty Acid', 'Element', 'Enzyme',\n",
              "       'Animal Part or Source', 'Hormone', 'Carbohydrate', 'bacteria',\n",
              "       'Vitamin', 'Mineral', 'Fat', 'fatty acid', 'carbohydrate', nan,\n",
              "       'Polysaccharide', 'hormone', 'mineral', 'polysaccharide', 'Header',\n",
              "       1, 7, 67, 3, 39, 25, 13, 5, 4, 2, 8, 11, 202, 10, 72, 29, 9, 14,\n",
              "       19, 22, 41, 17, 71, 15, 27, 6, 68, 58, 18, 113, 12, 31, 28, 20, 38,\n",
              "       86, 23, 'vitamin'], dtype=object)"
            ]
          },
          "metadata": {
            "tags": []
          },
          "execution_count": 259
        }
      ]
    },
    {
      "cell_type": "code",
      "metadata": {
        "id": "f8DrTQJsQzSz",
        "colab_type": "code",
        "outputId": "54cb7f01-e188-4360-badb-4c069467104c",
        "colab": {
          "base_uri": "https://localhost:8080/",
          "height": 106
        }
      },
      "source": [
        "#check NaN values\n",
        "df1.isnull().sum()"
      ],
      "execution_count": 0,
      "outputs": [
        {
          "output_type": "execute_result",
          "data": {
            "text/plain": [
              "Ingredient - Group Name    225\n",
              "CATEGORY                    14\n",
              "Synonyms/Sources           226\n",
              "# of Products              139\n",
              "dtype: int64"
            ]
          },
          "metadata": {
            "tags": []
          },
          "execution_count": 260
        }
      ]
    },
    {
      "cell_type": "code",
      "metadata": {
        "id": "L9wUDK6FHDv7",
        "colab_type": "code",
        "colab": {}
      },
      "source": [
        "# Getting rid of rows that contain NaN in ingredients\n",
        "df2 = df1[pd.notnull(df1['Ingredient - Group Name'])]"
      ],
      "execution_count": 0,
      "outputs": []
    },
    {
      "cell_type": "code",
      "metadata": {
        "id": "rwhxbt06H8o_",
        "colab_type": "code",
        "outputId": "cbae6e28-ef48-45bf-c23b-4592294b3fbb",
        "colab": {
          "base_uri": "https://localhost:8080/",
          "height": 106
        }
      },
      "source": [
        "#Checking is NaN values were removed\n",
        "df2.isnull().sum()"
      ],
      "execution_count": 0,
      "outputs": [
        {
          "output_type": "execute_result",
          "data": {
            "text/plain": [
              "Ingredient - Group Name      0\n",
              "CATEGORY                     0\n",
              "Synonyms/Sources             1\n",
              "# of Products              139\n",
              "dtype: int64"
            ]
          },
          "metadata": {
            "tags": []
          },
          "execution_count": 262
        }
      ]
    },
    {
      "cell_type": "code",
      "metadata": {
        "id": "WeCreg9dCZnS",
        "colab_type": "code",
        "colab": {}
      },
      "source": [
        "# Fixing category labels\n",
        "df1.loc[df1['CATEGORY'] == 'botanical', 'CATEGORY'] = 'Botanical'\n",
        "df1.loc[df1['CATEGORY'] == 'fiber', 'CATEGORY'] = 'Fiber'\n",
        "df1.loc[df1['CATEGORY'] == 'other', 'CATEGORY'] = 'Other'\n",
        "df1.loc[df1['CATEGORY'] == 'chemical', 'CATEGORY'] = 'Chemical'\n",
        "df1.loc[df1['CATEGORY'] == 'enzyme', 'CATEGORY'] = 'Enzyme'\n",
        "df1.loc[df1['CATEGORY'] == 'animal part or source', 'CATEGORY'] = 'Animal Part or Source'\n",
        "df1.loc[df1['CATEGORY'] == 'fat', 'CATEGORY'] = 'Fat'\n",
        "df1.loc[df1['CATEGORY'] == 'fatty acid', 'CATEGORY'] = 'Fatty Acid'\n",
        "df1.loc[df1['CATEGORY'] == 'mineral', 'CATEGORY'] = 'Mineral'\n",
        "df1.loc[df1['CATEGORY'] == 'bacteria', 'CATEGORY'] = 'Bacteria'\n",
        "df1.loc[df1['CATEGORY'] == 'amino acid', 'CATEGORY'] = 'Amino Acid'\n",
        "df1.loc[df1['CATEGORY'] == 'carbohydrate', 'CATEGORY'] = 'Carbohydrate'\n",
        "df1.loc[df1['CATEGORY'] == 'vitamin', 'CATEGORY'] = 'Vitamin'\n",
        "df1.loc[df1['CATEGORY'] == 'protein', 'CATEGORY'] = 'Protein'\n",
        "df1.loc[df1['CATEGORY'] == 'hormone', 'CATEGORY'] = 'Hormone'\n",
        "df1.loc[df1['CATEGORY'] == 'polysaccharide', 'CATEGORY'] = 'Polysaccharide'\n",
        "df1.loc[df1['CATEGORY'] == 'Polysaccharide', 'CATEGORY'] = 'Carbohydrate'"
      ],
      "execution_count": 0,
      "outputs": []
    },
    {
      "cell_type": "code",
      "metadata": {
        "id": "2s9T_dzzqCiM",
        "colab_type": "code",
        "colab": {}
      },
      "source": [
        "# Get names of indexes for which column Age has value 30\n",
        "#indexNames = df1[ df1['Ingredient - Group Name'] == 'Header' ].index\n",
        "# Delete these row indexes from dataFrame\n",
        "#df1.drop(indexNames , inplace=True)"
      ],
      "execution_count": 0,
      "outputs": []
    },
    {
      "cell_type": "code",
      "metadata": {
        "id": "w3xrrzHGGxPS",
        "colab_type": "code",
        "outputId": "b6839a20-34ef-4b46-fba1-3d5bada1a208",
        "colab": {
          "base_uri": "https://localhost:8080/",
          "height": 124
        }
      },
      "source": [
        "#Checking if change occured\n",
        "df1['CATEGORY'].unique()"
      ],
      "execution_count": 0,
      "outputs": [
        {
          "output_type": "execute_result",
          "data": {
            "text/plain": [
              "array(['Botanical', 'Fiber', 'Other', 'Chemical', 'Bacteria',\n",
              "       'Animal Part or Source', 'Amino Acid', 'Protein', 'TBD', 'Fat',\n",
              "       'Enzyme', 'Fatty Acid', 'Element', 'Hormone', 'Carbohydrate',\n",
              "       'Vitamin', 'Mineral', nan, 'Header', 1, 7, 67, 3, 39, 25, 13, 5, 4,\n",
              "       2, 8, 11, 202, 10, 72, 29, 9, 14, 19, 22, 41, 17, 71, 15, 27, 6,\n",
              "       68, 58, 18, 113, 12, 31, 28, 20, 38, 86, 23], dtype=object)"
            ]
          },
          "metadata": {
            "tags": []
          },
          "execution_count": 265
        }
      ]
    },
    {
      "cell_type": "markdown",
      "metadata": {
        "id": "xt_5P9kR2Xz7",
        "colab_type": "text"
      },
      "source": [
        "###Botanical Dataframe"
      ]
    },
    {
      "cell_type": "code",
      "metadata": {
        "id": "nDQ0CceW6pAC",
        "colab_type": "code",
        "outputId": "10cff827-d746-4253-d83b-44e89c7b4a4d",
        "colab": {
          "base_uri": "https://localhost:8080/",
          "height": 194
        }
      },
      "source": [
        "#creating and applying condition\n",
        "botanical = ['Botanical']\n",
        "condition1 = df1['CATEGORY'].isin(botanical)\n",
        "bot_df = df1[condition1]\n",
        "bot_df.head()"
      ],
      "execution_count": 0,
      "outputs": [
        {
          "output_type": "execute_result",
          "data": {
            "text/html": [
              "<div>\n",
              "<style scoped>\n",
              "    .dataframe tbody tr th:only-of-type {\n",
              "        vertical-align: middle;\n",
              "    }\n",
              "\n",
              "    .dataframe tbody tr th {\n",
              "        vertical-align: top;\n",
              "    }\n",
              "\n",
              "    .dataframe thead th {\n",
              "        text-align: right;\n",
              "    }\n",
              "</style>\n",
              "<table border=\"1\" class=\"dataframe\">\n",
              "  <thead>\n",
              "    <tr style=\"text-align: right;\">\n",
              "      <th></th>\n",
              "      <th>Ingredient - Group Name</th>\n",
              "      <th>CATEGORY</th>\n",
              "      <th>Synonyms/Sources</th>\n",
              "      <th># of Products</th>\n",
              "    </tr>\n",
              "  </thead>\n",
              "  <tbody>\n",
              "    <tr>\n",
              "      <th>0</th>\n",
              "      <td>Abrotanum</td>\n",
              "      <td>Botanical</td>\n",
              "      <td>\"Abrotanum 10x, 30x &amp; LM1\"</td>\n",
              "      <td>1.0</td>\n",
              "    </tr>\n",
              "    <tr>\n",
              "      <th>1</th>\n",
              "      <td>Abutua</td>\n",
              "      <td>Botanical</td>\n",
              "      <td>\"Abutua\"</td>\n",
              "      <td>1.0</td>\n",
              "    </tr>\n",
              "    <tr>\n",
              "      <th>2</th>\n",
              "      <td>Acacia</td>\n",
              "      <td>Botanical</td>\n",
              "      <td>\"100% certified organic Acacia gum powder\";\"Ac...</td>\n",
              "      <td>219.0</td>\n",
              "    </tr>\n",
              "    <tr>\n",
              "      <th>4</th>\n",
              "      <td>Acai</td>\n",
              "      <td>Botanical</td>\n",
              "      <td>\"100% Pure Organic Acai berry juice\";\"Acai\";\"A...</td>\n",
              "      <td>963.0</td>\n",
              "    </tr>\n",
              "    <tr>\n",
              "      <th>5</th>\n",
              "      <td>Acer Truncatum bunge</td>\n",
              "      <td>Botanical</td>\n",
              "      <td>\"Acer trucatum\";\"Acer truncatum\"</td>\n",
              "      <td>2.0</td>\n",
              "    </tr>\n",
              "  </tbody>\n",
              "</table>\n",
              "</div>"
            ],
            "text/plain": [
              "  Ingredient - Group Name  ... # of Products\n",
              "0               Abrotanum  ...           1.0\n",
              "1                  Abutua  ...           1.0\n",
              "2                  Acacia  ...         219.0\n",
              "4                    Acai  ...         963.0\n",
              "5    Acer Truncatum bunge  ...           2.0\n",
              "\n",
              "[5 rows x 4 columns]"
            ]
          },
          "metadata": {
            "tags": []
          },
          "execution_count": 266
        }
      ]
    },
    {
      "cell_type": "code",
      "metadata": {
        "id": "ZbhnXhwYpLCD",
        "colab_type": "code",
        "outputId": "9c9fb785-feb7-4900-b4f0-c8c61ad5090a",
        "colab": {
          "base_uri": "https://localhost:8080/",
          "height": 35
        }
      },
      "source": [
        "#Calculating total number of products\n",
        "bot_df['# of Products'].sum(axis = 0, skipna = True)"
      ],
      "execution_count": 0,
      "outputs": [
        {
          "output_type": "execute_result",
          "data": {
            "text/plain": [
              "120923.0"
            ]
          },
          "metadata": {
            "tags": []
          },
          "execution_count": 267
        }
      ]
    },
    {
      "cell_type": "markdown",
      "metadata": {
        "id": "OeIXHxnm7DKS",
        "colab_type": "text"
      },
      "source": [
        "###Fiber Dataframe"
      ]
    },
    {
      "cell_type": "code",
      "metadata": {
        "id": "vgqc5aRK9_Pv",
        "colab_type": "code",
        "outputId": "01b0764e-dec6-443d-c1d0-dc2d8e44cd06",
        "colab": {
          "base_uri": "https://localhost:8080/",
          "height": 194
        }
      },
      "source": [
        "#creating and applying condition\n",
        "fiber = ['Fiber']\n",
        "condition2 = df1['CATEGORY'].isin(fiber)\n",
        "fiber_df = df1[condition2]\n",
        "fiber_df.head()"
      ],
      "execution_count": 0,
      "outputs": [
        {
          "output_type": "execute_result",
          "data": {
            "text/html": [
              "<div>\n",
              "<style scoped>\n",
              "    .dataframe tbody tr th:only-of-type {\n",
              "        vertical-align: middle;\n",
              "    }\n",
              "\n",
              "    .dataframe tbody tr th {\n",
              "        vertical-align: top;\n",
              "    }\n",
              "\n",
              "    .dataframe thead th {\n",
              "        text-align: right;\n",
              "    }\n",
              "</style>\n",
              "<table border=\"1\" class=\"dataframe\">\n",
              "  <thead>\n",
              "    <tr style=\"text-align: right;\">\n",
              "      <th></th>\n",
              "      <th>Ingredient - Group Name</th>\n",
              "      <th>CATEGORY</th>\n",
              "      <th>Synonyms/Sources</th>\n",
              "      <th># of Products</th>\n",
              "    </tr>\n",
              "  </thead>\n",
              "  <tbody>\n",
              "    <tr>\n",
              "      <th>3</th>\n",
              "      <td>Acacia fiber</td>\n",
              "      <td>Fiber</td>\n",
              "      <td>\"Acacia Fiber\";\"Acacia Fiber powder\";\"Acacia g...</td>\n",
              "      <td>57.0</td>\n",
              "    </tr>\n",
              "    <tr>\n",
              "      <th>87</th>\n",
              "      <td>Alpha-cyclodextrin</td>\n",
              "      <td>Fiber</td>\n",
              "      <td>\"Alpha-Cyclodextrin\"</td>\n",
              "      <td>19.0</td>\n",
              "    </tr>\n",
              "    <tr>\n",
              "      <th>119</th>\n",
              "      <td>Amylopectin</td>\n",
              "      <td>Fiber</td>\n",
              "      <td>\"Amylopectin\";\"Vitargo\"</td>\n",
              "      <td>15.0</td>\n",
              "    </tr>\n",
              "    <tr>\n",
              "      <th>150</th>\n",
              "      <td>Apple fiber</td>\n",
              "      <td>Fiber</td>\n",
              "      <td>\"Apple Fiber\";\"Apple Fiber powder\";\"Apple Fibe...</td>\n",
              "      <td>70.0</td>\n",
              "    </tr>\n",
              "    <tr>\n",
              "      <th>154</th>\n",
              "      <td>Arabinogalactan</td>\n",
              "      <td>Fiber</td>\n",
              "      <td>\"ARA-Larix\";\"Arabinogalactan\";\"ImmunEnhancer\";...</td>\n",
              "      <td>47.0</td>\n",
              "    </tr>\n",
              "  </tbody>\n",
              "</table>\n",
              "</div>"
            ],
            "text/plain": [
              "    Ingredient - Group Name  ... # of Products\n",
              "3              Acacia fiber  ...          57.0\n",
              "87       Alpha-cyclodextrin  ...          19.0\n",
              "119             Amylopectin  ...          15.0\n",
              "150             Apple fiber  ...          70.0\n",
              "154         Arabinogalactan  ...          47.0\n",
              "\n",
              "[5 rows x 4 columns]"
            ]
          },
          "metadata": {
            "tags": []
          },
          "execution_count": 268
        }
      ]
    },
    {
      "cell_type": "code",
      "metadata": {
        "id": "lk0NFDaUQczZ",
        "colab_type": "code",
        "outputId": "562a9d30-5264-4b9e-fb06-0ce3a9eacb19",
        "colab": {
          "base_uri": "https://localhost:8080/",
          "height": 35
        }
      },
      "source": [
        "#Calculating total number of products\n",
        "fiber_df['# of Products'].sum(axis = 0, skipna = True)"
      ],
      "execution_count": 0,
      "outputs": [
        {
          "output_type": "execute_result",
          "data": {
            "text/plain": [
              "7084.0"
            ]
          },
          "metadata": {
            "tags": []
          },
          "execution_count": 269
        }
      ]
    },
    {
      "cell_type": "markdown",
      "metadata": {
        "id": "cJ0h8HWuIjPE",
        "colab_type": "text"
      },
      "source": [
        "##Other Dataframe"
      ]
    },
    {
      "cell_type": "code",
      "metadata": {
        "id": "pZ7shL3N_L7I",
        "colab_type": "code",
        "outputId": "7f4afee6-c2e9-4462-be1c-870e14c4cd23",
        "colab": {
          "base_uri": "https://localhost:8080/",
          "height": 194
        }
      },
      "source": [
        "#creating and applying condition\n",
        "other = ['Other']\n",
        "condition3 = df1['CATEGORY'].isin(other)\n",
        "oth_df = df1[condition3]\n",
        "oth_df.head()"
      ],
      "execution_count": 0,
      "outputs": [
        {
          "output_type": "execute_result",
          "data": {
            "text/html": [
              "<div>\n",
              "<style scoped>\n",
              "    .dataframe tbody tr th:only-of-type {\n",
              "        vertical-align: middle;\n",
              "    }\n",
              "\n",
              "    .dataframe tbody tr th {\n",
              "        vertical-align: top;\n",
              "    }\n",
              "\n",
              "    .dataframe thead th {\n",
              "        text-align: right;\n",
              "    }\n",
              "</style>\n",
              "<table border=\"1\" class=\"dataframe\">\n",
              "  <thead>\n",
              "    <tr style=\"text-align: right;\">\n",
              "      <th></th>\n",
              "      <th>Ingredient - Group Name</th>\n",
              "      <th>CATEGORY</th>\n",
              "      <th>Synonyms/Sources</th>\n",
              "      <th># of Products</th>\n",
              "    </tr>\n",
              "  </thead>\n",
              "  <tbody>\n",
              "    <tr>\n",
              "      <th>7</th>\n",
              "      <td>Acesulfame potassium</td>\n",
              "      <td>Other</td>\n",
              "      <td>\"Acesulfame Potassium\"</td>\n",
              "      <td>14.0</td>\n",
              "    </tr>\n",
              "    <tr>\n",
              "      <th>22</th>\n",
              "      <td>Adrafinil</td>\n",
              "      <td>Other</td>\n",
              "      <td>\"Adrafinil\"</td>\n",
              "      <td>2.0</td>\n",
              "    </tr>\n",
              "    <tr>\n",
              "      <th>34</th>\n",
              "      <td>Agaricus mushroom (unspecified)</td>\n",
              "      <td>Other</td>\n",
              "      <td>\"Agaricus blazei\"</td>\n",
              "      <td>4.0</td>\n",
              "    </tr>\n",
              "    <tr>\n",
              "      <th>35</th>\n",
              "      <td>Agarikon</td>\n",
              "      <td>Other</td>\n",
              "      <td>\"Agarikon\";\"fresh Agarikon (Fomitopsis officin...</td>\n",
              "      <td>12.0</td>\n",
              "    </tr>\n",
              "    <tr>\n",
              "      <th>36</th>\n",
              "      <td>Agarikon Mushroom</td>\n",
              "      <td>Other</td>\n",
              "      <td>\"Agarikon\"</td>\n",
              "      <td>4.0</td>\n",
              "    </tr>\n",
              "  </tbody>\n",
              "</table>\n",
              "</div>"
            ],
            "text/plain": [
              "            Ingredient - Group Name  ... # of Products\n",
              "7              Acesulfame potassium  ...          14.0\n",
              "22                        Adrafinil  ...           2.0\n",
              "34  Agaricus mushroom (unspecified)  ...           4.0\n",
              "35                         Agarikon  ...          12.0\n",
              "36                Agarikon Mushroom  ...           4.0\n",
              "\n",
              "[5 rows x 4 columns]"
            ]
          },
          "metadata": {
            "tags": []
          },
          "execution_count": 270
        }
      ]
    },
    {
      "cell_type": "code",
      "metadata": {
        "id": "FTY4bNTtQmJO",
        "colab_type": "code",
        "outputId": "a0e97880-2f21-4227-df1b-097aabbdf7f2",
        "colab": {
          "base_uri": "https://localhost:8080/",
          "height": 35
        }
      },
      "source": [
        "#Calculating total number of products\n",
        "oth_df['# of Products'].sum(axis = 0, skipna = True)"
      ],
      "execution_count": 0,
      "outputs": [
        {
          "output_type": "execute_result",
          "data": {
            "text/plain": [
              "5349.0"
            ]
          },
          "metadata": {
            "tags": []
          },
          "execution_count": 271
        }
      ]
    },
    {
      "cell_type": "markdown",
      "metadata": {
        "id": "QE0XEf5YIf75",
        "colab_type": "text"
      },
      "source": [
        "##Chemical Dataframe"
      ]
    },
    {
      "cell_type": "code",
      "metadata": {
        "id": "Vn1LK4SgBRBO",
        "colab_type": "code",
        "outputId": "c9d97455-559a-47c8-b11c-639890ca2aad",
        "colab": {
          "base_uri": "https://localhost:8080/",
          "height": 194
        }
      },
      "source": [
        "#creating and applying condition\n",
        "chemical = ['Chemical']\n",
        "condition4 = df1['CATEGORY'].isin(chemical)\n",
        "chem_df = df1[condition4]\n",
        "chem_df.head()"
      ],
      "execution_count": 0,
      "outputs": [
        {
          "output_type": "execute_result",
          "data": {
            "text/html": [
              "<div>\n",
              "<style scoped>\n",
              "    .dataframe tbody tr th:only-of-type {\n",
              "        vertical-align: middle;\n",
              "    }\n",
              "\n",
              "    .dataframe tbody tr th {\n",
              "        vertical-align: top;\n",
              "    }\n",
              "\n",
              "    .dataframe thead th {\n",
              "        text-align: right;\n",
              "    }\n",
              "</style>\n",
              "<table border=\"1\" class=\"dataframe\">\n",
              "  <thead>\n",
              "    <tr style=\"text-align: right;\">\n",
              "      <th></th>\n",
              "      <th>Ingredient - Group Name</th>\n",
              "      <th>CATEGORY</th>\n",
              "      <th>Synonyms/Sources</th>\n",
              "      <th># of Products</th>\n",
              "    </tr>\n",
              "  </thead>\n",
              "  <tbody>\n",
              "    <tr>\n",
              "      <th>8</th>\n",
              "      <td>Acetic acid</td>\n",
              "      <td>Chemical</td>\n",
              "      <td>\"Acetic Acid\"</td>\n",
              "      <td>3.0</td>\n",
              "    </tr>\n",
              "    <tr>\n",
              "      <th>9</th>\n",
              "      <td>Acetyl L-Carnitine</td>\n",
              "      <td>Chemical</td>\n",
              "      <td>\"Acetyl Carnitine\";\"Acetyl L Carnitine\";\"Acety...</td>\n",
              "      <td>658.0</td>\n",
              "    </tr>\n",
              "    <tr>\n",
              "      <th>10</th>\n",
              "      <td>Acetyl L-Carnitine Taurinate</td>\n",
              "      <td>Chemical</td>\n",
              "      <td>\"Acetyl-L-Carnitine Taurinate Hydrochloride\"</td>\n",
              "      <td>1.0</td>\n",
              "    </tr>\n",
              "    <tr>\n",
              "      <th>11</th>\n",
              "      <td>Acetyl L-Tyrosine</td>\n",
              "      <td>Chemical</td>\n",
              "      <td>\"Acetil Tirosina L\";\"Acetyl L-Tyrosine\"</td>\n",
              "      <td>4.0</td>\n",
              "    </tr>\n",
              "    <tr>\n",
              "      <th>12</th>\n",
              "      <td>Acetyl-L-Carnitine Arginate</td>\n",
              "      <td>Chemical</td>\n",
              "      <td>\"Acetyl L-Carnitine Arginate\";\"Acetyl L-Carnit...</td>\n",
              "      <td>49.0</td>\n",
              "    </tr>\n",
              "  </tbody>\n",
              "</table>\n",
              "</div>"
            ],
            "text/plain": [
              "         Ingredient - Group Name  ... # of Products\n",
              "8                    Acetic acid  ...           3.0\n",
              "9             Acetyl L-Carnitine  ...         658.0\n",
              "10  Acetyl L-Carnitine Taurinate  ...           1.0\n",
              "11             Acetyl L-Tyrosine  ...           4.0\n",
              "12   Acetyl-L-Carnitine Arginate  ...          49.0\n",
              "\n",
              "[5 rows x 4 columns]"
            ]
          },
          "metadata": {
            "tags": []
          },
          "execution_count": 272
        }
      ]
    },
    {
      "cell_type": "code",
      "metadata": {
        "id": "saPQpivBQrTX",
        "colab_type": "code",
        "outputId": "8f401756-a993-46c8-94a9-0be2800ad5ba",
        "colab": {
          "base_uri": "https://localhost:8080/",
          "height": 35
        }
      },
      "source": [
        "#Calculating total number of products\n",
        "chem_df['# of Products'].sum(axis = 0, skipna = True)"
      ],
      "execution_count": 0,
      "outputs": [
        {
          "output_type": "execute_result",
          "data": {
            "text/plain": [
              "38903.0"
            ]
          },
          "metadata": {
            "tags": []
          },
          "execution_count": 273
        }
      ]
    },
    {
      "cell_type": "markdown",
      "metadata": {
        "id": "LIy0QXAPIbYx",
        "colab_type": "text"
      },
      "source": [
        "##Bacteria Dataframe"
      ]
    },
    {
      "cell_type": "code",
      "metadata": {
        "id": "CiwP4txOBrVE",
        "colab_type": "code",
        "outputId": "2c4b17e9-01b1-4faa-e86c-d749bc8cd7ba",
        "colab": {
          "base_uri": "https://localhost:8080/",
          "height": 194
        }
      },
      "source": [
        "#creating and applying condition\n",
        "bacteria = ['Bacteria']\n",
        "condition5 = df1['CATEGORY'].isin(bacteria)\n",
        "bac_df = df1[condition5]\n",
        "bac_df.head()"
      ],
      "execution_count": 0,
      "outputs": [
        {
          "output_type": "execute_result",
          "data": {
            "text/html": [
              "<div>\n",
              "<style scoped>\n",
              "    .dataframe tbody tr th:only-of-type {\n",
              "        vertical-align: middle;\n",
              "    }\n",
              "\n",
              "    .dataframe tbody tr th {\n",
              "        vertical-align: top;\n",
              "    }\n",
              "\n",
              "    .dataframe thead th {\n",
              "        text-align: right;\n",
              "    }\n",
              "</style>\n",
              "<table border=\"1\" class=\"dataframe\">\n",
              "  <thead>\n",
              "    <tr style=\"text-align: right;\">\n",
              "      <th></th>\n",
              "      <th>Ingredient - Group Name</th>\n",
              "      <th>CATEGORY</th>\n",
              "      <th>Synonyms/Sources</th>\n",
              "      <th># of Products</th>\n",
              "    </tr>\n",
              "  </thead>\n",
              "  <tbody>\n",
              "    <tr>\n",
              "      <th>15</th>\n",
              "      <td>Acidophilus</td>\n",
              "      <td>Bacteria</td>\n",
              "      <td>\"Acidiphilus\";\"Acidophilus\";\"Acidophilus Lacto...</td>\n",
              "      <td>11.0</td>\n",
              "    </tr>\n",
              "    <tr>\n",
              "      <th>1</th>\n",
              "      <td>Bacillus</td>\n",
              "      <td>Bacteria</td>\n",
              "      <td>\"B-Bifidum\";\"B. Breve\";\"Bacillus Amylase\";\"Bac...</td>\n",
              "      <td>44.0</td>\n",
              "    </tr>\n",
              "    <tr>\n",
              "      <th>2</th>\n",
              "      <td>Bacillus Coagulans</td>\n",
              "      <td>Bacteria</td>\n",
              "      <td>\"B. coagulans\";\"B. coagulans LactoSpore\";\"B. c...</td>\n",
              "      <td>334.0</td>\n",
              "    </tr>\n",
              "    <tr>\n",
              "      <th>3</th>\n",
              "      <td>Bacillus Subtilis</td>\n",
              "      <td>Bacteria</td>\n",
              "      <td>\"B. subtilis\";\"Bacillus subtilis\";\"Bacillus su...</td>\n",
              "      <td>76.0</td>\n",
              "    </tr>\n",
              "    <tr>\n",
              "      <th>84</th>\n",
              "      <td>Bifidobacteria</td>\n",
              "      <td>Bacteria</td>\n",
              "      <td>\"B. animalis\";\"B. animalis subsp. lactis (CUL-...</td>\n",
              "      <td>440.0</td>\n",
              "    </tr>\n",
              "  </tbody>\n",
              "</table>\n",
              "</div>"
            ],
            "text/plain": [
              "   Ingredient - Group Name  ... # of Products\n",
              "15             Acidophilus  ...          11.0\n",
              "1                 Bacillus  ...          44.0\n",
              "2       Bacillus Coagulans  ...         334.0\n",
              "3        Bacillus Subtilis  ...          76.0\n",
              "84          Bifidobacteria  ...         440.0\n",
              "\n",
              "[5 rows x 4 columns]"
            ]
          },
          "metadata": {
            "tags": []
          },
          "execution_count": 274
        }
      ]
    },
    {
      "cell_type": "code",
      "metadata": {
        "id": "3hDILyOBQzGN",
        "colab_type": "code",
        "outputId": "5962981f-dace-4bd3-8cad-4593a78fa4a5",
        "colab": {
          "base_uri": "https://localhost:8080/",
          "height": 35
        }
      },
      "source": [
        "#Calculating total number of products\n",
        "bac_df['# of Products'].sum(axis = 0, skipna = True)"
      ],
      "execution_count": 0,
      "outputs": [
        {
          "output_type": "execute_result",
          "data": {
            "text/plain": [
              "4281.0"
            ]
          },
          "metadata": {
            "tags": []
          },
          "execution_count": 275
        }
      ]
    },
    {
      "cell_type": "markdown",
      "metadata": {
        "id": "6yGlAK9xIXV1",
        "colab_type": "text"
      },
      "source": [
        "#Animal Dataframe"
      ]
    },
    {
      "cell_type": "code",
      "metadata": {
        "id": "ZvJoSfLICSYF",
        "colab_type": "code",
        "outputId": "8ac861ba-ba32-4c0f-a25f-27e333f768e1",
        "colab": {
          "base_uri": "https://localhost:8080/",
          "height": 194
        }
      },
      "source": [
        "#creating and applying condition\n",
        "animal = ['Animal Part or Source']\n",
        "condition6 = df1['CATEGORY'].isin(animal)\n",
        "animal_df = df1[condition6]\n",
        "animal_df.head()"
      ],
      "execution_count": 0,
      "outputs": [
        {
          "output_type": "execute_result",
          "data": {
            "text/html": [
              "<div>\n",
              "<style scoped>\n",
              "    .dataframe tbody tr th:only-of-type {\n",
              "        vertical-align: middle;\n",
              "    }\n",
              "\n",
              "    .dataframe tbody tr th {\n",
              "        vertical-align: top;\n",
              "    }\n",
              "\n",
              "    .dataframe thead th {\n",
              "        text-align: right;\n",
              "    }\n",
              "</style>\n",
              "<table border=\"1\" class=\"dataframe\">\n",
              "  <thead>\n",
              "    <tr style=\"text-align: right;\">\n",
              "      <th></th>\n",
              "      <th>Ingredient - Group Name</th>\n",
              "      <th>CATEGORY</th>\n",
              "      <th>Synonyms/Sources</th>\n",
              "      <th># of Products</th>\n",
              "    </tr>\n",
              "  </thead>\n",
              "  <tbody>\n",
              "    <tr>\n",
              "      <th>24</th>\n",
              "      <td>Adrenal extract</td>\n",
              "      <td>Animal Part or Source</td>\n",
              "      <td>\"Adrenal Cortex\";\"Adrenal extract\";\"Bovine Adr...</td>\n",
              "      <td>6.0</td>\n",
              "    </tr>\n",
              "    <tr>\n",
              "      <th>122</th>\n",
              "      <td>anchovies</td>\n",
              "      <td>Animal Part or Source</td>\n",
              "      <td>\"Anchovies\";\"Anchovy\"</td>\n",
              "      <td>7.0</td>\n",
              "    </tr>\n",
              "    <tr>\n",
              "      <th>137</th>\n",
              "      <td>Anterior pituitary</td>\n",
              "      <td>Animal Part or Source</td>\n",
              "      <td>\"Anterior Pituitary\";\"bovine anterior pituitary\"</td>\n",
              "      <td>2.0</td>\n",
              "    </tr>\n",
              "    <tr>\n",
              "      <th>208</th>\n",
              "      <td>Avian Cartilage</td>\n",
              "      <td>Animal Part or Source</td>\n",
              "      <td>\"UC-II standardized Chicken Cartilage\"</td>\n",
              "      <td>1.0</td>\n",
              "    </tr>\n",
              "    <tr>\n",
              "      <th>39</th>\n",
              "      <td>Beef Extract</td>\n",
              "      <td>Animal Part or Source</td>\n",
              "      <td>\"Beef extract\"</td>\n",
              "      <td>3.0</td>\n",
              "    </tr>\n",
              "  </tbody>\n",
              "</table>\n",
              "</div>"
            ],
            "text/plain": [
              "    Ingredient - Group Name  ... # of Products\n",
              "24          Adrenal extract  ...           6.0\n",
              "122               anchovies  ...           7.0\n",
              "137      Anterior pituitary  ...           2.0\n",
              "208         Avian Cartilage  ...           1.0\n",
              "39             Beef Extract  ...           3.0\n",
              "\n",
              "[5 rows x 4 columns]"
            ]
          },
          "metadata": {
            "tags": []
          },
          "execution_count": 276
        }
      ]
    },
    {
      "cell_type": "code",
      "metadata": {
        "id": "sX1j1Jw0Q3bh",
        "colab_type": "code",
        "outputId": "b144459c-7c3c-4865-99e9-df9f0d22f3b1",
        "colab": {
          "base_uri": "https://localhost:8080/",
          "height": 35
        }
      },
      "source": [
        "#Calculating total number of products\n",
        "animal_df['# of Products'].sum(axis = 0, skipna = True)"
      ],
      "execution_count": 0,
      "outputs": [
        {
          "output_type": "execute_result",
          "data": {
            "text/plain": [
              "1719.0"
            ]
          },
          "metadata": {
            "tags": []
          },
          "execution_count": 277
        }
      ]
    },
    {
      "cell_type": "markdown",
      "metadata": {
        "id": "8bfI5x7ZITjP",
        "colab_type": "text"
      },
      "source": [
        "###Amino Acid Dataframe"
      ]
    },
    {
      "cell_type": "code",
      "metadata": {
        "id": "pR1AlEklClQO",
        "colab_type": "code",
        "outputId": "646ace80-9c52-4f0a-8859-0d2feb7c2ad1",
        "colab": {
          "base_uri": "https://localhost:8080/",
          "height": 194
        }
      },
      "source": [
        "#creating and applying condition\n",
        "aa = ['Amino Acid']\n",
        "condition7 = df1['CATEGORY'].isin(aa)\n",
        "aa_df = df1[condition7]\n",
        "aa_df.head()"
      ],
      "execution_count": 0,
      "outputs": [
        {
          "output_type": "execute_result",
          "data": {
            "text/html": [
              "<div>\n",
              "<style scoped>\n",
              "    .dataframe tbody tr th:only-of-type {\n",
              "        vertical-align: middle;\n",
              "    }\n",
              "\n",
              "    .dataframe tbody tr th {\n",
              "        vertical-align: top;\n",
              "    }\n",
              "\n",
              "    .dataframe thead th {\n",
              "        text-align: right;\n",
              "    }\n",
              "</style>\n",
              "<table border=\"1\" class=\"dataframe\">\n",
              "  <thead>\n",
              "    <tr style=\"text-align: right;\">\n",
              "      <th></th>\n",
              "      <th>Ingredient - Group Name</th>\n",
              "      <th>CATEGORY</th>\n",
              "      <th>Synonyms/Sources</th>\n",
              "      <th># of Products</th>\n",
              "    </tr>\n",
              "  </thead>\n",
              "  <tbody>\n",
              "    <tr>\n",
              "      <th>39</th>\n",
              "      <td>Agmatine sulfate</td>\n",
              "      <td>Amino Acid</td>\n",
              "      <td>\"AgmaMax(R)\";\"AgmaMax(TM)\";\"Agmaprue(TM) Agmat...</td>\n",
              "      <td>300.0</td>\n",
              "    </tr>\n",
              "    <tr>\n",
              "      <th>46</th>\n",
              "      <td>Alanine</td>\n",
              "      <td>Amino Acid</td>\n",
              "      <td>\"Alanin\";\"Alanine\";\"L-Alanine\"</td>\n",
              "      <td>369.0</td>\n",
              "    </tr>\n",
              "    <tr>\n",
              "      <th>85</th>\n",
              "      <td>Alpha-Alanine</td>\n",
              "      <td>Amino Acid</td>\n",
              "      <td>\"Alanin\"</td>\n",
              "      <td>1.0</td>\n",
              "    </tr>\n",
              "    <tr>\n",
              "      <th>107</th>\n",
              "      <td>Amino Acid (unspecified)</td>\n",
              "      <td>Amino Acid</td>\n",
              "      <td>\"Amino Acids\";\"Amino Acids 17\";\"L-isoleucine\";...</td>\n",
              "      <td>5.0</td>\n",
              "    </tr>\n",
              "    <tr>\n",
              "      <th>108</th>\n",
              "      <td>Amino Acid Chelate</td>\n",
              "      <td>Amino Acid</td>\n",
              "      <td>\"Amino Acid Chelate\";\"Amino Acids\";\"Chromium\"</td>\n",
              "      <td>33.0</td>\n",
              "    </tr>\n",
              "  </tbody>\n",
              "</table>\n",
              "</div>"
            ],
            "text/plain": [
              "      Ingredient - Group Name  ... # of Products\n",
              "39           Agmatine sulfate  ...         300.0\n",
              "46                    Alanine  ...         369.0\n",
              "85              Alpha-Alanine  ...           1.0\n",
              "107  Amino Acid (unspecified)  ...           5.0\n",
              "108        Amino Acid Chelate  ...          33.0\n",
              "\n",
              "[5 rows x 4 columns]"
            ]
          },
          "metadata": {
            "tags": []
          },
          "execution_count": 278
        }
      ]
    },
    {
      "cell_type": "code",
      "metadata": {
        "id": "51GPA50pQ8Uf",
        "colab_type": "code",
        "outputId": "694d38a3-2241-47b4-d86e-b639a975ea76",
        "colab": {
          "base_uri": "https://localhost:8080/",
          "height": 35
        }
      },
      "source": [
        "#Calculating total number of products\n",
        "aa_df['# of Products'].sum(axis = 0, skipna = True)"
      ],
      "execution_count": 0,
      "outputs": [
        {
          "output_type": "execute_result",
          "data": {
            "text/plain": [
              "20064.0"
            ]
          },
          "metadata": {
            "tags": []
          },
          "execution_count": 279
        }
      ]
    },
    {
      "cell_type": "markdown",
      "metadata": {
        "id": "2vnv8HRsIPLm",
        "colab_type": "text"
      },
      "source": [
        "###TBD Dataframe"
      ]
    },
    {
      "cell_type": "code",
      "metadata": {
        "id": "YSl1T_v8ClKy",
        "colab_type": "code",
        "outputId": "8f370cf9-6de8-4c87-bd41-fc575f2ef004",
        "colab": {
          "base_uri": "https://localhost:8080/",
          "height": 194
        }
      },
      "source": [
        "#creating and applying condition\n",
        "tbd = ['TBD']\n",
        "condition8 = df1['CATEGORY'].isin(tbd)\n",
        "tbd_df = df1[condition8]\n",
        "tbd_df.head()"
      ],
      "execution_count": 0,
      "outputs": [
        {
          "output_type": "execute_result",
          "data": {
            "text/html": [
              "<div>\n",
              "<style scoped>\n",
              "    .dataframe tbody tr th:only-of-type {\n",
              "        vertical-align: middle;\n",
              "    }\n",
              "\n",
              "    .dataframe tbody tr th {\n",
              "        vertical-align: top;\n",
              "    }\n",
              "\n",
              "    .dataframe thead th {\n",
              "        text-align: right;\n",
              "    }\n",
              "</style>\n",
              "<table border=\"1\" class=\"dataframe\">\n",
              "  <thead>\n",
              "    <tr style=\"text-align: right;\">\n",
              "      <th></th>\n",
              "      <th>Ingredient - Group Name</th>\n",
              "      <th>CATEGORY</th>\n",
              "      <th>Synonyms/Sources</th>\n",
              "      <th># of Products</th>\n",
              "    </tr>\n",
              "  </thead>\n",
              "  <tbody>\n",
              "    <tr>\n",
              "      <th>59</th>\n",
              "      <td>Algae</td>\n",
              "      <td>TBD</td>\n",
              "      <td>\"Algae Calcium\";\"Algae Extract\";\"Algae Plant C...</td>\n",
              "      <td>74.0</td>\n",
              "    </tr>\n",
              "    <tr>\n",
              "      <th>73</th>\n",
              "      <td>Beta-Sitosterol</td>\n",
              "      <td>TBD</td>\n",
              "      <td>\"Beta-Sitosterol\";\"Phytosterol\";\"Phytosterols\"</td>\n",
              "      <td>7.0</td>\n",
              "    </tr>\n",
              "    <tr>\n",
              "      <th>78</th>\n",
              "      <td>Betatene</td>\n",
              "      <td>TBD</td>\n",
              "      <td>\"Betatene(R)\"</td>\n",
              "      <td>1.0</td>\n",
              "    </tr>\n",
              "    <tr>\n",
              "      <th>193</th>\n",
              "      <td>Broom Corn</td>\n",
              "      <td>TBD</td>\n",
              "      <td>\"Millet\";\"organic Millet\";\"Sorghum bran (Sorgh...</td>\n",
              "      <td>36.0</td>\n",
              "    </tr>\n",
              "    <tr>\n",
              "      <th>87</th>\n",
              "      <td>Cassia nomame</td>\n",
              "      <td>TBD</td>\n",
              "      <td>\"Cassia nomame\";\"Cassia nomame extract\";\"Cassi...</td>\n",
              "      <td>17.0</td>\n",
              "    </tr>\n",
              "  </tbody>\n",
              "</table>\n",
              "</div>"
            ],
            "text/plain": [
              "    Ingredient - Group Name  ... # of Products\n",
              "59                    Algae  ...          74.0\n",
              "73          Beta-Sitosterol  ...           7.0\n",
              "78                 Betatene  ...           1.0\n",
              "193              Broom Corn  ...          36.0\n",
              "87            Cassia nomame  ...          17.0\n",
              "\n",
              "[5 rows x 4 columns]"
            ]
          },
          "metadata": {
            "tags": []
          },
          "execution_count": 280
        }
      ]
    },
    {
      "cell_type": "code",
      "metadata": {
        "id": "8s8lm4SaQ_Zp",
        "colab_type": "code",
        "outputId": "9abaef51-7abc-4bfb-e7b2-d1c84c09db6d",
        "colab": {
          "base_uri": "https://localhost:8080/",
          "height": 35
        }
      },
      "source": [
        "#Calculating total number of products\n",
        "tbd_df['# of Products'].sum(axis = 0, skipna = True)"
      ],
      "execution_count": 0,
      "outputs": [
        {
          "output_type": "execute_result",
          "data": {
            "text/plain": [
              "2696.0"
            ]
          },
          "metadata": {
            "tags": []
          },
          "execution_count": 281
        }
      ]
    },
    {
      "cell_type": "markdown",
      "metadata": {
        "id": "0BGPfKTlIJ-_",
        "colab_type": "text"
      },
      "source": [
        "###Protein Dataframe"
      ]
    },
    {
      "cell_type": "code",
      "metadata": {
        "id": "jTSrZD6TClEr",
        "colab_type": "code",
        "outputId": "35cf0027-cd0b-44e8-c9be-5dc6e2dec4ca",
        "colab": {
          "base_uri": "https://localhost:8080/",
          "height": 194
        }
      },
      "source": [
        "#creating and applying condition\n",
        "protein = ['Protein']\n",
        "condition9 = df1['CATEGORY'].isin(protein)\n",
        "pro_df = df1[condition9]\n",
        "pro_df.head()"
      ],
      "execution_count": 0,
      "outputs": [
        {
          "output_type": "execute_result",
          "data": {
            "text/html": [
              "<div>\n",
              "<style scoped>\n",
              "    .dataframe tbody tr th:only-of-type {\n",
              "        vertical-align: middle;\n",
              "    }\n",
              "\n",
              "    .dataframe tbody tr th {\n",
              "        vertical-align: top;\n",
              "    }\n",
              "\n",
              "    .dataframe thead th {\n",
              "        text-align: right;\n",
              "    }\n",
              "</style>\n",
              "<table border=\"1\" class=\"dataframe\">\n",
              "  <thead>\n",
              "    <tr style=\"text-align: right;\">\n",
              "      <th></th>\n",
              "      <th>Ingredient - Group Name</th>\n",
              "      <th>CATEGORY</th>\n",
              "      <th>Synonyms/Sources</th>\n",
              "      <th># of Products</th>\n",
              "    </tr>\n",
              "  </thead>\n",
              "  <tbody>\n",
              "    <tr>\n",
              "      <th>51</th>\n",
              "      <td>Albumin</td>\n",
              "      <td>Protein</td>\n",
              "      <td>\"Egg Albumen\";\"Mango Albumins\"</td>\n",
              "      <td>11.0</td>\n",
              "    </tr>\n",
              "    <tr>\n",
              "      <th>58</th>\n",
              "      <td>Alfalfa Protein</td>\n",
              "      <td>Protein</td>\n",
              "      <td>\"Alfalfa Protein concentrate\"</td>\n",
              "      <td>1.0</td>\n",
              "    </tr>\n",
              "    <tr>\n",
              "      <th>62</th>\n",
              "      <td>Algalin</td>\n",
              "      <td>Protein</td>\n",
              "      <td>\"Algalin\";\"whole Algalin Protein\"</td>\n",
              "      <td>4.0</td>\n",
              "    </tr>\n",
              "    <tr>\n",
              "      <th>81</th>\n",
              "      <td>Alpha lactalbumin</td>\n",
              "      <td>Protein</td>\n",
              "      <td>\"Alpha-Lactalbumin\";\"Alpha-Lactalbumin I.P\";\"A...</td>\n",
              "      <td>23.0</td>\n",
              "    </tr>\n",
              "    <tr>\n",
              "      <th>70</th>\n",
              "      <td>beta-lactoglobulin</td>\n",
              "      <td>Protein</td>\n",
              "      <td>\"Beta-Lactoglobulin\"</td>\n",
              "      <td>12.0</td>\n",
              "    </tr>\n",
              "  </tbody>\n",
              "</table>\n",
              "</div>"
            ],
            "text/plain": [
              "   Ingredient - Group Name  ... # of Products\n",
              "51                 Albumin  ...          11.0\n",
              "58         Alfalfa Protein  ...           1.0\n",
              "62                 Algalin  ...           4.0\n",
              "81       Alpha lactalbumin  ...          23.0\n",
              "70      beta-lactoglobulin  ...          12.0\n",
              "\n",
              "[5 rows x 4 columns]"
            ]
          },
          "metadata": {
            "tags": []
          },
          "execution_count": 282
        }
      ]
    },
    {
      "cell_type": "code",
      "metadata": {
        "id": "JfHEBnbKRJXB",
        "colab_type": "code",
        "outputId": "7a1e2bee-332f-4283-88cd-6917ca418b5f",
        "colab": {
          "base_uri": "https://localhost:8080/",
          "height": 35
        }
      },
      "source": [
        "#Calculating total number of products\n",
        "pro_df['# of Products'].sum(axis = 0, skipna = True)"
      ],
      "execution_count": 0,
      "outputs": [
        {
          "output_type": "execute_result",
          "data": {
            "text/plain": [
              "8514.0"
            ]
          },
          "metadata": {
            "tags": []
          },
          "execution_count": 283
        }
      ]
    },
    {
      "cell_type": "markdown",
      "metadata": {
        "id": "TUcvTWyPIGRw",
        "colab_type": "text"
      },
      "source": [
        "###Fat Dataframe"
      ]
    },
    {
      "cell_type": "code",
      "metadata": {
        "id": "N17TVuPCCk22",
        "colab_type": "code",
        "outputId": "31d324f4-07a2-4d17-ab2c-a8284d3dddaa",
        "colab": {
          "base_uri": "https://localhost:8080/",
          "height": 194
        }
      },
      "source": [
        "#creating and applying condition\n",
        "fat = ['Fat']\n",
        "condition10 = df1['CATEGORY'].isin(fat)\n",
        "fat_df = df1[condition10]\n",
        "fat_df.head()"
      ],
      "execution_count": 0,
      "outputs": [
        {
          "output_type": "execute_result",
          "data": {
            "text/html": [
              "<div>\n",
              "<style scoped>\n",
              "    .dataframe tbody tr th:only-of-type {\n",
              "        vertical-align: middle;\n",
              "    }\n",
              "\n",
              "    .dataframe tbody tr th {\n",
              "        vertical-align: top;\n",
              "    }\n",
              "\n",
              "    .dataframe thead th {\n",
              "        text-align: right;\n",
              "    }\n",
              "</style>\n",
              "<table border=\"1\" class=\"dataframe\">\n",
              "  <thead>\n",
              "    <tr style=\"text-align: right;\">\n",
              "      <th></th>\n",
              "      <th>Ingredient - Group Name</th>\n",
              "      <th>CATEGORY</th>\n",
              "      <th>Synonyms/Sources</th>\n",
              "      <th># of Products</th>\n",
              "    </tr>\n",
              "  </thead>\n",
              "  <tbody>\n",
              "    <tr>\n",
              "      <th>74</th>\n",
              "      <td>Almond Oil</td>\n",
              "      <td>Fat</td>\n",
              "      <td>\"Almond Oil\"</td>\n",
              "      <td>1.0</td>\n",
              "    </tr>\n",
              "    <tr>\n",
              "      <th>134</th>\n",
              "      <td>Annatto Oil</td>\n",
              "      <td>Fat</td>\n",
              "      <td>\"Annatto Oil concentrate\"</td>\n",
              "      <td>1.0</td>\n",
              "    </tr>\n",
              "    <tr>\n",
              "      <th>210</th>\n",
              "      <td>Avocado Oil</td>\n",
              "      <td>Fat</td>\n",
              "      <td>\"Avocado Oil\";\"Avocado Oil powder\"</td>\n",
              "      <td>22.0</td>\n",
              "    </tr>\n",
              "    <tr>\n",
              "      <th>119</th>\n",
              "      <td>Black Currant Seed Oil</td>\n",
              "      <td>Fat</td>\n",
              "      <td>\"Black Currant (Ribes nigrum) oil\";\"Black Curr...</td>\n",
              "      <td>40.0</td>\n",
              "    </tr>\n",
              "    <tr>\n",
              "      <th>158</th>\n",
              "      <td>Borage Oil</td>\n",
              "      <td>Fat</td>\n",
              "      <td>\"Boarage Oil\";\"Borage (Borago officinalis) Oil...</td>\n",
              "      <td>158.0</td>\n",
              "    </tr>\n",
              "  </tbody>\n",
              "</table>\n",
              "</div>"
            ],
            "text/plain": [
              "    Ingredient - Group Name  ... # of Products\n",
              "74               Almond Oil  ...           1.0\n",
              "134             Annatto Oil  ...           1.0\n",
              "210             Avocado Oil  ...          22.0\n",
              "119  Black Currant Seed Oil  ...          40.0\n",
              "158              Borage Oil  ...         158.0\n",
              "\n",
              "[5 rows x 4 columns]"
            ]
          },
          "metadata": {
            "tags": []
          },
          "execution_count": 284
        }
      ]
    },
    {
      "cell_type": "code",
      "metadata": {
        "id": "yT-bNqmIRNgX",
        "colab_type": "code",
        "outputId": "9d5d622a-c3b4-4ab6-9b9b-ed6fa5c1e409",
        "colab": {
          "base_uri": "https://localhost:8080/",
          "height": 35
        }
      },
      "source": [
        "#Calculating total number of products\n",
        "fat_df['# of Products'].sum(axis = 0, skipna = True)"
      ],
      "execution_count": 0,
      "outputs": [
        {
          "output_type": "execute_result",
          "data": {
            "text/plain": [
              "21004.0"
            ]
          },
          "metadata": {
            "tags": []
          },
          "execution_count": 285
        }
      ]
    },
    {
      "cell_type": "markdown",
      "metadata": {
        "id": "cis89jnUIA7-",
        "colab_type": "text"
      },
      "source": [
        "###Enzyme Dataframe"
      ]
    },
    {
      "cell_type": "code",
      "metadata": {
        "id": "CFeKja4UED4x",
        "colab_type": "code",
        "outputId": "7dc5f7e5-6a0c-478c-a2fd-955d2717d448",
        "colab": {
          "base_uri": "https://localhost:8080/",
          "height": 194
        }
      },
      "source": [
        "#creating and applying condition\n",
        "enzyme = ['Enzyme']\n",
        "condition11 = df1['CATEGORY'].isin(enzyme)\n",
        "enz_df = df1[condition11]\n",
        "enz_df.head()"
      ],
      "execution_count": 0,
      "outputs": [
        {
          "output_type": "execute_result",
          "data": {
            "text/html": [
              "<div>\n",
              "<style scoped>\n",
              "    .dataframe tbody tr th:only-of-type {\n",
              "        vertical-align: middle;\n",
              "    }\n",
              "\n",
              "    .dataframe tbody tr th {\n",
              "        vertical-align: top;\n",
              "    }\n",
              "\n",
              "    .dataframe thead th {\n",
              "        text-align: right;\n",
              "    }\n",
              "</style>\n",
              "<table border=\"1\" class=\"dataframe\">\n",
              "  <thead>\n",
              "    <tr style=\"text-align: right;\">\n",
              "      <th></th>\n",
              "      <th>Ingredient - Group Name</th>\n",
              "      <th>CATEGORY</th>\n",
              "      <th>Synonyms/Sources</th>\n",
              "      <th># of Products</th>\n",
              "    </tr>\n",
              "  </thead>\n",
              "  <tbody>\n",
              "    <tr>\n",
              "      <th>78</th>\n",
              "      <td>Alpha Galactosidase</td>\n",
              "      <td>Enzyme</td>\n",
              "      <td>\"AGS a-Galactosidase\";\"Alpha Galactosidase\";\"A...</td>\n",
              "      <td>529.0</td>\n",
              "    </tr>\n",
              "    <tr>\n",
              "      <th>110</th>\n",
              "      <td>Aminopeptidase</td>\n",
              "      <td>Enzyme</td>\n",
              "      <td>\"Aminopeptidase\"</td>\n",
              "      <td>2.0</td>\n",
              "    </tr>\n",
              "    <tr>\n",
              "      <th>113</th>\n",
              "      <td>Amylase</td>\n",
              "      <td>Enzyme</td>\n",
              "      <td>\"350mg Amylase\";\"Alpha &amp; Beta Amylase\";\"Alpha ...</td>\n",
              "      <td>1763.0</td>\n",
              "    </tr>\n",
              "    <tr>\n",
              "      <th>114</th>\n",
              "      <td>Amylase (alpha)</td>\n",
              "      <td>Enzyme</td>\n",
              "      <td>\"Alpha-Amylase\"</td>\n",
              "      <td>2.0</td>\n",
              "    </tr>\n",
              "    <tr>\n",
              "      <th>115</th>\n",
              "      <td>Amylase (Amylase I)</td>\n",
              "      <td>Enzyme</td>\n",
              "      <td>\"Amylase I\";\"Amylase I, II\"</td>\n",
              "      <td>6.0</td>\n",
              "    </tr>\n",
              "  </tbody>\n",
              "</table>\n",
              "</div>"
            ],
            "text/plain": [
              "    Ingredient - Group Name  ... # of Products\n",
              "78      Alpha Galactosidase  ...         529.0\n",
              "110          Aminopeptidase  ...           2.0\n",
              "113                 Amylase  ...        1763.0\n",
              "114         Amylase (alpha)  ...           2.0\n",
              "115     Amylase (Amylase I)  ...           6.0\n",
              "\n",
              "[5 rows x 4 columns]"
            ]
          },
          "metadata": {
            "tags": []
          },
          "execution_count": 286
        }
      ]
    },
    {
      "cell_type": "code",
      "metadata": {
        "id": "QfaWmg8kRVyj",
        "colab_type": "code",
        "outputId": "9bd484a6-4975-43c9-93fc-cc8e3b168e7f",
        "colab": {
          "base_uri": "https://localhost:8080/",
          "height": 35
        }
      },
      "source": [
        "#Calculating total number of products\n",
        "enz_df['# of Products'].sum(axis = 0, skipna = True)"
      ],
      "execution_count": 0,
      "outputs": [
        {
          "output_type": "execute_result",
          "data": {
            "text/plain": [
              "11861.0"
            ]
          },
          "metadata": {
            "tags": []
          },
          "execution_count": 287
        }
      ]
    },
    {
      "cell_type": "markdown",
      "metadata": {
        "id": "D1dH-PJKH6cM",
        "colab_type": "text"
      },
      "source": [
        "###Fatty Acid Dataframe"
      ]
    },
    {
      "cell_type": "code",
      "metadata": {
        "id": "OlX1D1vBEDxm",
        "colab_type": "code",
        "outputId": "32329464-a747-495f-8413-f2213f766434",
        "colab": {
          "base_uri": "https://localhost:8080/",
          "height": 194
        }
      },
      "source": [
        "#creating and applying condition\n",
        "fa = ['Fatty Acid']\n",
        "condition12 = df1['CATEGORY'].isin(fa)\n",
        "fa_df = df1[condition12]\n",
        "fa_df.head()"
      ],
      "execution_count": 0,
      "outputs": [
        {
          "output_type": "execute_result",
          "data": {
            "text/html": [
              "<div>\n",
              "<style scoped>\n",
              "    .dataframe tbody tr th:only-of-type {\n",
              "        vertical-align: middle;\n",
              "    }\n",
              "\n",
              "    .dataframe tbody tr th {\n",
              "        vertical-align: top;\n",
              "    }\n",
              "\n",
              "    .dataframe thead th {\n",
              "        text-align: right;\n",
              "    }\n",
              "</style>\n",
              "<table border=\"1\" class=\"dataframe\">\n",
              "  <thead>\n",
              "    <tr style=\"text-align: right;\">\n",
              "      <th></th>\n",
              "      <th>Ingredient - Group Name</th>\n",
              "      <th>CATEGORY</th>\n",
              "      <th>Synonyms/Sources</th>\n",
              "      <th># of Products</th>\n",
              "    </tr>\n",
              "  </thead>\n",
              "  <tbody>\n",
              "    <tr>\n",
              "      <th>90</th>\n",
              "      <td>Alpha-Linolenic Acid</td>\n",
              "      <td>Fatty Acid</td>\n",
              "      <td>\"18:3 (D9,12,15) cis-a-Linolenic acid\";\"ALA\";\"...</td>\n",
              "      <td>455.0</td>\n",
              "    </tr>\n",
              "    <tr>\n",
              "      <th>157</th>\n",
              "      <td>Arachidonic Acid</td>\n",
              "      <td>Fatty Acid</td>\n",
              "      <td>\"ARA\";\"Arachidic Acid\";\"Arachidonic Acid\";\"Ara...</td>\n",
              "      <td>38.0</td>\n",
              "    </tr>\n",
              "    <tr>\n",
              "      <th>45</th>\n",
              "      <td>Behenic Acid</td>\n",
              "      <td>Fatty Acid</td>\n",
              "      <td>\"Behenic Acid\"</td>\n",
              "      <td>2.0</td>\n",
              "    </tr>\n",
              "    <tr>\n",
              "      <th>221</th>\n",
              "      <td>Butyric acid</td>\n",
              "      <td>Fatty Acid</td>\n",
              "      <td>\"Butyric Acid\"</td>\n",
              "      <td>5.0</td>\n",
              "    </tr>\n",
              "    <tr>\n",
              "      <th>47</th>\n",
              "      <td>Canola Oil</td>\n",
              "      <td>Fatty Acid</td>\n",
              "      <td>\"Canola Oil\"</td>\n",
              "      <td>11.0</td>\n",
              "    </tr>\n",
              "  </tbody>\n",
              "</table>\n",
              "</div>"
            ],
            "text/plain": [
              "    Ingredient - Group Name  ... # of Products\n",
              "90     Alpha-Linolenic Acid  ...         455.0\n",
              "157        Arachidonic Acid  ...          38.0\n",
              "45             Behenic Acid  ...           2.0\n",
              "221            Butyric acid  ...           5.0\n",
              "47               Canola Oil  ...          11.0\n",
              "\n",
              "[5 rows x 4 columns]"
            ]
          },
          "metadata": {
            "tags": []
          },
          "execution_count": 288
        }
      ]
    },
    {
      "cell_type": "code",
      "metadata": {
        "id": "MVx4P99uRZwB",
        "colab_type": "code",
        "outputId": "03ffdfb4-2234-405e-8420-ee121a38c6a2",
        "colab": {
          "base_uri": "https://localhost:8080/",
          "height": 35
        }
      },
      "source": [
        "#Calculating total number of products\n",
        "fa_df['# of Products'].sum(axis = 0, skipna = True)"
      ],
      "execution_count": 0,
      "outputs": [
        {
          "output_type": "execute_result",
          "data": {
            "text/plain": [
              "13504.0"
            ]
          },
          "metadata": {
            "tags": []
          },
          "execution_count": 289
        }
      ]
    },
    {
      "cell_type": "markdown",
      "metadata": {
        "id": "AsKPs62JH0CQ",
        "colab_type": "text"
      },
      "source": [
        "###Element Dataframe"
      ]
    },
    {
      "cell_type": "code",
      "metadata": {
        "id": "yrhEPp7gEDau",
        "colab_type": "code",
        "outputId": "3c2b268c-0eea-4d58-f6a6-dc5f3b51d13e",
        "colab": {
          "base_uri": "https://localhost:8080/",
          "height": 194
        }
      },
      "source": [
        "#creating and applying condition\n",
        "element = ['Element']\n",
        "condition13 = df1['CATEGORY'].isin(element)\n",
        "ele_df = df1[condition13]\n",
        "ele_df.head()"
      ],
      "execution_count": 0,
      "outputs": [
        {
          "output_type": "execute_result",
          "data": {
            "text/html": [
              "<div>\n",
              "<style scoped>\n",
              "    .dataframe tbody tr th:only-of-type {\n",
              "        vertical-align: middle;\n",
              "    }\n",
              "\n",
              "    .dataframe tbody tr th {\n",
              "        vertical-align: top;\n",
              "    }\n",
              "\n",
              "    .dataframe thead th {\n",
              "        text-align: right;\n",
              "    }\n",
              "</style>\n",
              "<table border=\"1\" class=\"dataframe\">\n",
              "  <thead>\n",
              "    <tr style=\"text-align: right;\">\n",
              "      <th></th>\n",
              "      <th>Ingredient - Group Name</th>\n",
              "      <th>CATEGORY</th>\n",
              "      <th>Synonyms/Sources</th>\n",
              "      <th># of Products</th>\n",
              "    </tr>\n",
              "  </thead>\n",
              "  <tbody>\n",
              "    <tr>\n",
              "      <th>95</th>\n",
              "      <td>Aluminum</td>\n",
              "      <td>Element</td>\n",
              "      <td>\"Aluminum\"</td>\n",
              "      <td>5.0</td>\n",
              "    </tr>\n",
              "    <tr>\n",
              "      <th>23</th>\n",
              "      <td>Barium</td>\n",
              "      <td>Element</td>\n",
              "      <td>\"Barium\"</td>\n",
              "      <td>21.0</td>\n",
              "    </tr>\n",
              "    <tr>\n",
              "      <th>58</th>\n",
              "      <td>Berylium</td>\n",
              "      <td>Element</td>\n",
              "      <td>\"Beryllium\"</td>\n",
              "      <td>17.0</td>\n",
              "    </tr>\n",
              "    <tr>\n",
              "      <th>109</th>\n",
              "      <td>Bismuth</td>\n",
              "      <td>Element</td>\n",
              "      <td>\"Bismuth\";\"Bismuth citrate\";\"Bismuth Gluconate\"</td>\n",
              "      <td>29.0</td>\n",
              "    </tr>\n",
              "    <tr>\n",
              "      <th>191</th>\n",
              "      <td>Bromine</td>\n",
              "      <td>Element</td>\n",
              "      <td>\"Bromine\"</td>\n",
              "      <td>13.0</td>\n",
              "    </tr>\n",
              "  </tbody>\n",
              "</table>\n",
              "</div>"
            ],
            "text/plain": [
              "    Ingredient - Group Name  ... # of Products\n",
              "95                 Aluminum  ...           5.0\n",
              "23                   Barium  ...          21.0\n",
              "58                 Berylium  ...          17.0\n",
              "109                 Bismuth  ...          29.0\n",
              "191                 Bromine  ...          13.0\n",
              "\n",
              "[5 rows x 4 columns]"
            ]
          },
          "metadata": {
            "tags": []
          },
          "execution_count": 290
        }
      ]
    },
    {
      "cell_type": "code",
      "metadata": {
        "id": "WC5dzl75RdzK",
        "colab_type": "code",
        "outputId": "9f5fffd7-e9c0-49e3-9f95-3b33bcf2a009",
        "colab": {
          "base_uri": "https://localhost:8080/",
          "height": 35
        }
      },
      "source": [
        "#Calculating total number of products\n",
        "ele_df['# of Products'].sum(axis = 0, skipna = True)"
      ],
      "execution_count": 0,
      "outputs": [
        {
          "output_type": "execute_result",
          "data": {
            "text/plain": [
              "6754.0"
            ]
          },
          "metadata": {
            "tags": []
          },
          "execution_count": 291
        }
      ]
    },
    {
      "cell_type": "markdown",
      "metadata": {
        "id": "bT44HSVkHvOA",
        "colab_type": "text"
      },
      "source": [
        "###Hormone Dataframe"
      ]
    },
    {
      "cell_type": "code",
      "metadata": {
        "id": "GquV-0SIFj0L",
        "colab_type": "code",
        "outputId": "b65e4ef2-b5e7-4d53-b972-a7ce94ff7b9a",
        "colab": {
          "base_uri": "https://localhost:8080/",
          "height": 194
        }
      },
      "source": [
        "#creating and applying condition\n",
        "hormone = ['Hormone']\n",
        "condition14 = df1['CATEGORY'].isin(hormone)\n",
        "horm_df = df1[condition14]\n",
        "horm_df.head()"
      ],
      "execution_count": 0,
      "outputs": [
        {
          "output_type": "execute_result",
          "data": {
            "text/html": [
              "<div>\n",
              "<style scoped>\n",
              "    .dataframe tbody tr th:only-of-type {\n",
              "        vertical-align: middle;\n",
              "    }\n",
              "\n",
              "    .dataframe tbody tr th {\n",
              "        vertical-align: top;\n",
              "    }\n",
              "\n",
              "    .dataframe thead th {\n",
              "        text-align: right;\n",
              "    }\n",
              "</style>\n",
              "<table border=\"1\" class=\"dataframe\">\n",
              "  <thead>\n",
              "    <tr style=\"text-align: right;\">\n",
              "      <th></th>\n",
              "      <th>Ingredient - Group Name</th>\n",
              "      <th>CATEGORY</th>\n",
              "      <th>Synonyms/Sources</th>\n",
              "      <th># of Products</th>\n",
              "    </tr>\n",
              "  </thead>\n",
              "  <tbody>\n",
              "    <tr>\n",
              "      <th>123</th>\n",
              "      <td>Androgen</td>\n",
              "      <td>Hormone</td>\n",
              "      <td>\"2a,3a-Epithio-17a-Methyl-5a-Androstan-17b-ol\"...</td>\n",
              "      <td>7.0</td>\n",
              "    </tr>\n",
              "    <tr>\n",
              "      <th>47</th>\n",
              "      <td>Epiandrosterone</td>\n",
              "      <td>Hormone</td>\n",
              "      <td>\"Epiandrosterone\"</td>\n",
              "      <td>5.0</td>\n",
              "    </tr>\n",
              "    <tr>\n",
              "      <th>28</th>\n",
              "      <td>insulin</td>\n",
              "      <td>Hormone</td>\n",
              "      <td>\"Insulin\"</td>\n",
              "      <td>1.0</td>\n",
              "    </tr>\n",
              "    <tr>\n",
              "      <th>67</th>\n",
              "      <td>Melatonin</td>\n",
              "      <td>Hormone</td>\n",
              "      <td>\"5-Methoxy-N-Acetylryptamine\";\"5-Methoxy-N-Ace...</td>\n",
              "      <td>684.0</td>\n",
              "    </tr>\n",
              "    <tr>\n",
              "      <th>101</th>\n",
              "      <td>Phytoestrogen</td>\n",
              "      <td>Hormone</td>\n",
              "      <td>\"Novasoy Phytoestrogen Extract\"</td>\n",
              "      <td>1.0</td>\n",
              "    </tr>\n",
              "  </tbody>\n",
              "</table>\n",
              "</div>"
            ],
            "text/plain": [
              "    Ingredient - Group Name  ... # of Products\n",
              "123                Androgen  ...           7.0\n",
              "47          Epiandrosterone  ...           5.0\n",
              "28                  insulin  ...           1.0\n",
              "67                Melatonin  ...         684.0\n",
              "101           Phytoestrogen  ...           1.0\n",
              "\n",
              "[5 rows x 4 columns]"
            ]
          },
          "metadata": {
            "tags": []
          },
          "execution_count": 292
        }
      ]
    },
    {
      "cell_type": "code",
      "metadata": {
        "id": "kRlRNMtjRgZJ",
        "colab_type": "code",
        "outputId": "9f36c700-2d38-42a8-9507-0d79b43fe3f2",
        "colab": {
          "base_uri": "https://localhost:8080/",
          "height": 35
        }
      },
      "source": [
        "#Calculating total number of products\n",
        "horm_df['# of Products'].sum(axis = 0, skipna = True)"
      ],
      "execution_count": 0,
      "outputs": [
        {
          "output_type": "execute_result",
          "data": {
            "text/plain": [
              "699.0"
            ]
          },
          "metadata": {
            "tags": []
          },
          "execution_count": 293
        }
      ]
    },
    {
      "cell_type": "markdown",
      "metadata": {
        "id": "B3xPE4TsHozC",
        "colab_type": "text"
      },
      "source": [
        "###Carbohydrate Dataframe"
      ]
    },
    {
      "cell_type": "code",
      "metadata": {
        "id": "Bg9FyT1FF6Q2",
        "colab_type": "code",
        "outputId": "1af68016-a81c-432a-8a43-6ad21f7fe4e0",
        "colab": {
          "base_uri": "https://localhost:8080/",
          "height": 194
        }
      },
      "source": [
        "#creating and applying condition\n",
        "carb = ['Carbohydrate']\n",
        "condition15 = df1['CATEGORY'].isin(carb)\n",
        "carb_df = df1[condition15]\n",
        "carb_df.head()"
      ],
      "execution_count": 0,
      "outputs": [
        {
          "output_type": "execute_result",
          "data": {
            "text/html": [
              "<div>\n",
              "<style scoped>\n",
              "    .dataframe tbody tr th:only-of-type {\n",
              "        vertical-align: middle;\n",
              "    }\n",
              "\n",
              "    .dataframe tbody tr th {\n",
              "        vertical-align: top;\n",
              "    }\n",
              "\n",
              "    .dataframe thead th {\n",
              "        text-align: right;\n",
              "    }\n",
              "</style>\n",
              "<table border=\"1\" class=\"dataframe\">\n",
              "  <thead>\n",
              "    <tr style=\"text-align: right;\">\n",
              "      <th></th>\n",
              "      <th>Ingredient - Group Name</th>\n",
              "      <th>CATEGORY</th>\n",
              "      <th>Synonyms/Sources</th>\n",
              "      <th># of Products</th>\n",
              "    </tr>\n",
              "  </thead>\n",
              "  <tbody>\n",
              "    <tr>\n",
              "      <th>61</th>\n",
              "      <td>Beta Glucans</td>\n",
              "      <td>Carbohydrate</td>\n",
              "      <td>\"(1,3/1,4) Beta-Glucan\";\"(1,3/1,6) Beta-Glucan...</td>\n",
              "      <td>230.0</td>\n",
              "    </tr>\n",
              "    <tr>\n",
              "      <th>45</th>\n",
              "      <td>Cane Molasses</td>\n",
              "      <td>Carbohydrate</td>\n",
              "      <td>\"Cane Molasses\"</td>\n",
              "      <td>1.0</td>\n",
              "    </tr>\n",
              "    <tr>\n",
              "      <th>61</th>\n",
              "      <td>Carbohydrate</td>\n",
              "      <td>Carbohydrate</td>\n",
              "      <td>\"Carbohidrato Total\";\"Carbohydrate Specific En...</td>\n",
              "      <td>90.0</td>\n",
              "    </tr>\n",
              "    <tr>\n",
              "      <th>62</th>\n",
              "      <td>Carbohydrate (unspecified)</td>\n",
              "      <td>Carbohydrate</td>\n",
              "      <td>\"added Sugar\";\"Carb.\";\"Carbohydrate\";\"Carbohyd...</td>\n",
              "      <td>12672.0</td>\n",
              "    </tr>\n",
              "    <tr>\n",
              "      <th>227</th>\n",
              "      <td>NaN</td>\n",
              "      <td>Carbohydrate</td>\n",
              "      <td>NaN</td>\n",
              "      <td>2.0</td>\n",
              "    </tr>\n",
              "  </tbody>\n",
              "</table>\n",
              "</div>"
            ],
            "text/plain": [
              "        Ingredient - Group Name  ... # of Products\n",
              "61                 Beta Glucans  ...         230.0\n",
              "45                Cane Molasses  ...           1.0\n",
              "61                 Carbohydrate  ...          90.0\n",
              "62   Carbohydrate (unspecified)  ...       12672.0\n",
              "227                         NaN  ...           2.0\n",
              "\n",
              "[5 rows x 4 columns]"
            ]
          },
          "metadata": {
            "tags": []
          },
          "execution_count": 294
        }
      ]
    },
    {
      "cell_type": "code",
      "metadata": {
        "id": "cKOUsWh4Rhhj",
        "colab_type": "code",
        "outputId": "cf078c19-1baf-48be-8a58-de00f676cdc8",
        "colab": {
          "base_uri": "https://localhost:8080/",
          "height": 35
        }
      },
      "source": [
        "#Calculating total number of products\n",
        "carb_df['# of Products'].sum(axis = 0, skipna = True)"
      ],
      "execution_count": 0,
      "outputs": [
        {
          "output_type": "execute_result",
          "data": {
            "text/plain": [
              "15200.0"
            ]
          },
          "metadata": {
            "tags": []
          },
          "execution_count": 295
        }
      ]
    },
    {
      "cell_type": "markdown",
      "metadata": {
        "id": "BPHWzO0OHlMO",
        "colab_type": "text"
      },
      "source": [
        "###Vitamin Dataframe"
      ]
    },
    {
      "cell_type": "code",
      "metadata": {
        "id": "5C_iDCg8GN2A",
        "colab_type": "code",
        "outputId": "ca5c26bb-c155-46c6-f490-2e1e99b58f44",
        "colab": {
          "base_uri": "https://localhost:8080/",
          "height": 194
        }
      },
      "source": [
        "#creating and applying condition\n",
        "vitamin = ['Vitamin']\n",
        "condition16 = df1['CATEGORY'].isin(vitamin)\n",
        "vit_df = df1[condition16]\n",
        "vit_df.head()"
      ],
      "execution_count": 0,
      "outputs": [
        {
          "output_type": "execute_result",
          "data": {
            "text/html": [
              "<div>\n",
              "<style scoped>\n",
              "    .dataframe tbody tr th:only-of-type {\n",
              "        vertical-align: middle;\n",
              "    }\n",
              "\n",
              "    .dataframe tbody tr th {\n",
              "        vertical-align: top;\n",
              "    }\n",
              "\n",
              "    .dataframe thead th {\n",
              "        text-align: right;\n",
              "    }\n",
              "</style>\n",
              "<table border=\"1\" class=\"dataframe\">\n",
              "  <thead>\n",
              "    <tr style=\"text-align: right;\">\n",
              "      <th></th>\n",
              "      <th>Ingredient - Group Name</th>\n",
              "      <th>CATEGORY</th>\n",
              "      <th>Synonyms/Sources</th>\n",
              "      <th># of Products</th>\n",
              "    </tr>\n",
              "  </thead>\n",
              "  <tbody>\n",
              "    <tr>\n",
              "      <th>106</th>\n",
              "      <td>Biotin</td>\n",
              "      <td>Vitamin</td>\n",
              "      <td>\"Biotin\";\"Biotin 1%\";\"Biotina\";\"D-Biotin\";\"Nat...</td>\n",
              "      <td>200.0</td>\n",
              "    </tr>\n",
              "    <tr>\n",
              "      <th>37</th>\n",
              "      <td>Dibencozide</td>\n",
              "      <td>Vitamin</td>\n",
              "      <td>\"100 mcg as Adenosylcobalamin\";\"50 mcg as Aden...</td>\n",
              "      <td>15.0</td>\n",
              "    </tr>\n",
              "    <tr>\n",
              "      <th>59</th>\n",
              "      <td>Folic Acid</td>\n",
              "      <td>Vitamin</td>\n",
              "      <td>\"5-MTHF\";\"Àcido Fòlico\";\"coenzyme Folic Acid\";...</td>\n",
              "      <td>1495.0</td>\n",
              "    </tr>\n",
              "    <tr>\n",
              "      <th>60</th>\n",
              "      <td>Folinic Acid</td>\n",
              "      <td>Vitamin</td>\n",
              "      <td>\"Folate\";\"Folinic Acid\"</td>\n",
              "      <td>13.0</td>\n",
              "    </tr>\n",
              "    <tr>\n",
              "      <th>26</th>\n",
              "      <td>Inositol</td>\n",
              "      <td>Vitamin</td>\n",
              "      <td>\"D-Chiro Inositol\";\"D-Chiro-Inositol\";\"D-Myo-I...</td>\n",
              "      <td>3276.0</td>\n",
              "    </tr>\n",
              "  </tbody>\n",
              "</table>\n",
              "</div>"
            ],
            "text/plain": [
              "    Ingredient - Group Name  ... # of Products\n",
              "106                  Biotin  ...         200.0\n",
              "37              Dibencozide  ...          15.0\n",
              "59               Folic Acid  ...        1495.0\n",
              "60             Folinic Acid  ...          13.0\n",
              "26                 Inositol  ...        3276.0\n",
              "\n",
              "[5 rows x 4 columns]"
            ]
          },
          "metadata": {
            "tags": []
          },
          "execution_count": 296
        }
      ]
    },
    {
      "cell_type": "code",
      "metadata": {
        "id": "-dvdkHgWRiXu",
        "colab_type": "code",
        "outputId": "21cf2f2a-2969-4892-c31f-114172d27ca5",
        "colab": {
          "base_uri": "https://localhost:8080/",
          "height": 35
        }
      },
      "source": [
        "#Calculating total number of products\n",
        "vit_df['# of Products'].sum(axis = 0, skipna = True)"
      ],
      "execution_count": 0,
      "outputs": [
        {
          "output_type": "execute_result",
          "data": {
            "text/plain": [
              "109257.0"
            ]
          },
          "metadata": {
            "tags": []
          },
          "execution_count": 297
        }
      ]
    },
    {
      "cell_type": "markdown",
      "metadata": {
        "id": "IvhK6zTeHhAz",
        "colab_type": "text"
      },
      "source": [
        "###Mineral Dataframe"
      ]
    },
    {
      "cell_type": "code",
      "metadata": {
        "id": "r0v2LuyjGmEM",
        "colab_type": "code",
        "outputId": "f32d4cba-d329-4ca7-ad67-cf33db2256af",
        "colab": {
          "base_uri": "https://localhost:8080/",
          "height": 194
        }
      },
      "source": [
        "#creating and applying condition\n",
        "mineral = ['Mineral']\n",
        "condition17 = df1['CATEGORY'].isin(mineral)\n",
        "min_df = df1[condition17]\n",
        "min_df.head()"
      ],
      "execution_count": 0,
      "outputs": [
        {
          "output_type": "execute_result",
          "data": {
            "text/html": [
              "<div>\n",
              "<style scoped>\n",
              "    .dataframe tbody tr th:only-of-type {\n",
              "        vertical-align: middle;\n",
              "    }\n",
              "\n",
              "    .dataframe tbody tr th {\n",
              "        vertical-align: top;\n",
              "    }\n",
              "\n",
              "    .dataframe thead th {\n",
              "        text-align: right;\n",
              "    }\n",
              "</style>\n",
              "<table border=\"1\" class=\"dataframe\">\n",
              "  <thead>\n",
              "    <tr style=\"text-align: right;\">\n",
              "      <th></th>\n",
              "      <th>Ingredient - Group Name</th>\n",
              "      <th>CATEGORY</th>\n",
              "      <th>Synonyms/Sources</th>\n",
              "      <th># of Products</th>\n",
              "    </tr>\n",
              "  </thead>\n",
              "  <tbody>\n",
              "    <tr>\n",
              "      <th>121</th>\n",
              "      <td>Black Himalayan Shilajit</td>\n",
              "      <td>Mineral</td>\n",
              "      <td>\"High-Altitude Black Himalayan Shilajit\"</td>\n",
              "      <td>1.0</td>\n",
              "    </tr>\n",
              "    <tr>\n",
              "      <th>162</th>\n",
              "      <td>Boron</td>\n",
              "      <td>Mineral</td>\n",
              "      <td>\"99.9% pure Boron\";\"active Boron\";\"Boro\";\"Boro...</td>\n",
              "      <td>2875.0</td>\n",
              "    </tr>\n",
              "    <tr>\n",
              "      <th>11</th>\n",
              "      <td>Calcium</td>\n",
              "      <td>Mineral</td>\n",
              "      <td>\"100 mg of calcium aspartate\";\"50 mg of calciu...</td>\n",
              "      <td>13177.0</td>\n",
              "    </tr>\n",
              "    <tr>\n",
              "      <th>164</th>\n",
              "      <td>NaN</td>\n",
              "      <td>Mineral</td>\n",
              "      <td>NaN</td>\n",
              "      <td>1089.0</td>\n",
              "    </tr>\n",
              "    <tr>\n",
              "      <th>247</th>\n",
              "      <td>NaN</td>\n",
              "      <td>Mineral</td>\n",
              "      <td>NaN</td>\n",
              "      <td>11.0</td>\n",
              "    </tr>\n",
              "  </tbody>\n",
              "</table>\n",
              "</div>"
            ],
            "text/plain": [
              "      Ingredient - Group Name  ... # of Products\n",
              "121  Black Himalayan Shilajit  ...           1.0\n",
              "162                     Boron  ...        2875.0\n",
              "11                    Calcium  ...       13177.0\n",
              "164                       NaN  ...        1089.0\n",
              "247                       NaN  ...          11.0\n",
              "\n",
              "[5 rows x 4 columns]"
            ]
          },
          "metadata": {
            "tags": []
          },
          "execution_count": 298
        }
      ]
    },
    {
      "cell_type": "code",
      "metadata": {
        "id": "mtkl-_lnGzUP",
        "colab_type": "code",
        "outputId": "f717831b-672b-4270-b9d0-f5c0a3e0b65a",
        "colab": {
          "base_uri": "https://localhost:8080/",
          "height": 35
        }
      },
      "source": [
        "#Calculating total number of products\n",
        "min_df['# of Products'].sum(axis = 0, skipna = True)"
      ],
      "execution_count": 0,
      "outputs": [
        {
          "output_type": "execute_result",
          "data": {
            "text/plain": [
              "78445.0"
            ]
          },
          "metadata": {
            "tags": []
          },
          "execution_count": 299
        }
      ]
    },
    {
      "cell_type": "markdown",
      "metadata": {
        "id": "3npLacg2HULe",
        "colab_type": "text"
      },
      "source": [
        "##Ingredient Category Graph"
      ]
    },
    {
      "cell_type": "code",
      "metadata": {
        "id": "7NxvT77TR1rx",
        "colab_type": "code",
        "colab": {}
      },
      "source": [
        "# Botanical = 120923.0\n",
        "# Vitamin = 109257.0\n",
        "# Mineral = 78445.0\n",
        "# Chemical = 38903.0\n",
        "# Fat = 21004.0\n",
        "# Amino Acid = 20064.0\n",
        "# Carbohydrate = 15200.0\n",
        "# Fatty Acid = 13504.0\n",
        "# Enzyme = 11861.0\n",
        "# Protein = 8514.0\n",
        "# Fiber = 7084.0\n",
        "# Element = 6754.0\n",
        "# Other = 5349.0\n",
        "# Bacteria = 4281.0\n",
        "# TBD = 2696.0\n",
        "# Animal = 1719.0\n",
        "# Hormone = 699.0"
      ],
      "execution_count": 0,
      "outputs": []
    },
    {
      "cell_type": "code",
      "metadata": {
        "id": "I02h1btXwxQj",
        "colab_type": "code",
        "outputId": "1d3abed1-620f-4268-f36c-10da7ecddd9c",
        "colab": {
          "base_uri": "https://localhost:8080/",
          "height": 546
        }
      },
      "source": [
        "#creating dataframe for ingredient categories\n",
        "data = [['Botanical', 120923.0], ['Vitamin', 109257], ['Mineral', 78445.0], \n",
        "        ['Chemical', 38903.0], ['Fat', 21004.0], ['Amino Acid', 20064], \n",
        "        ['Carbohydrate', 15200.0], ['Fatty Acid', 13504.0], ['Enzyme', 11861.0], \n",
        "        ['Protein', 8514.0], ['Fiber', 7084], ['Element', 6754.0], \n",
        "        ['Other', 5349.0], ['Bacteria', 4281], ['TBD', 2696.0], \n",
        "        ['Animal', 1719.0], ['Hormone', 699]] \n",
        "\n",
        "#column headers\n",
        "category_df = pd.DataFrame(data, columns = ['Category', 'Number of Products'])\n",
        "#check datframe\n",
        "category_df"
      ],
      "execution_count": 0,
      "outputs": [
        {
          "output_type": "execute_result",
          "data": {
            "text/html": [
              "<div>\n",
              "<style scoped>\n",
              "    .dataframe tbody tr th:only-of-type {\n",
              "        vertical-align: middle;\n",
              "    }\n",
              "\n",
              "    .dataframe tbody tr th {\n",
              "        vertical-align: top;\n",
              "    }\n",
              "\n",
              "    .dataframe thead th {\n",
              "        text-align: right;\n",
              "    }\n",
              "</style>\n",
              "<table border=\"1\" class=\"dataframe\">\n",
              "  <thead>\n",
              "    <tr style=\"text-align: right;\">\n",
              "      <th></th>\n",
              "      <th>Category</th>\n",
              "      <th>Number of Products</th>\n",
              "    </tr>\n",
              "  </thead>\n",
              "  <tbody>\n",
              "    <tr>\n",
              "      <th>0</th>\n",
              "      <td>Botanical</td>\n",
              "      <td>120923.0</td>\n",
              "    </tr>\n",
              "    <tr>\n",
              "      <th>1</th>\n",
              "      <td>Vitamin</td>\n",
              "      <td>109257.0</td>\n",
              "    </tr>\n",
              "    <tr>\n",
              "      <th>2</th>\n",
              "      <td>Mineral</td>\n",
              "      <td>78445.0</td>\n",
              "    </tr>\n",
              "    <tr>\n",
              "      <th>3</th>\n",
              "      <td>Chemical</td>\n",
              "      <td>38903.0</td>\n",
              "    </tr>\n",
              "    <tr>\n",
              "      <th>4</th>\n",
              "      <td>Fat</td>\n",
              "      <td>21004.0</td>\n",
              "    </tr>\n",
              "    <tr>\n",
              "      <th>5</th>\n",
              "      <td>Amino Acid</td>\n",
              "      <td>20064.0</td>\n",
              "    </tr>\n",
              "    <tr>\n",
              "      <th>6</th>\n",
              "      <td>Carbohydrate</td>\n",
              "      <td>15200.0</td>\n",
              "    </tr>\n",
              "    <tr>\n",
              "      <th>7</th>\n",
              "      <td>Fatty Acid</td>\n",
              "      <td>13504.0</td>\n",
              "    </tr>\n",
              "    <tr>\n",
              "      <th>8</th>\n",
              "      <td>Enzyme</td>\n",
              "      <td>11861.0</td>\n",
              "    </tr>\n",
              "    <tr>\n",
              "      <th>9</th>\n",
              "      <td>Protein</td>\n",
              "      <td>8514.0</td>\n",
              "    </tr>\n",
              "    <tr>\n",
              "      <th>10</th>\n",
              "      <td>Fiber</td>\n",
              "      <td>7084.0</td>\n",
              "    </tr>\n",
              "    <tr>\n",
              "      <th>11</th>\n",
              "      <td>Element</td>\n",
              "      <td>6754.0</td>\n",
              "    </tr>\n",
              "    <tr>\n",
              "      <th>12</th>\n",
              "      <td>Other</td>\n",
              "      <td>5349.0</td>\n",
              "    </tr>\n",
              "    <tr>\n",
              "      <th>13</th>\n",
              "      <td>Bacteria</td>\n",
              "      <td>4281.0</td>\n",
              "    </tr>\n",
              "    <tr>\n",
              "      <th>14</th>\n",
              "      <td>TBD</td>\n",
              "      <td>2696.0</td>\n",
              "    </tr>\n",
              "    <tr>\n",
              "      <th>15</th>\n",
              "      <td>Animal</td>\n",
              "      <td>1719.0</td>\n",
              "    </tr>\n",
              "    <tr>\n",
              "      <th>16</th>\n",
              "      <td>Hormone</td>\n",
              "      <td>699.0</td>\n",
              "    </tr>\n",
              "  </tbody>\n",
              "</table>\n",
              "</div>"
            ],
            "text/plain": [
              "        Category  Number of Products\n",
              "0      Botanical            120923.0\n",
              "1        Vitamin            109257.0\n",
              "2        Mineral             78445.0\n",
              "3       Chemical             38903.0\n",
              "4            Fat             21004.0\n",
              "5     Amino Acid             20064.0\n",
              "6   Carbohydrate             15200.0\n",
              "7     Fatty Acid             13504.0\n",
              "8         Enzyme             11861.0\n",
              "9        Protein              8514.0\n",
              "10         Fiber              7084.0\n",
              "11       Element              6754.0\n",
              "12         Other              5349.0\n",
              "13      Bacteria              4281.0\n",
              "14           TBD              2696.0\n",
              "15        Animal              1719.0\n",
              "16       Hormone               699.0"
            ]
          },
          "metadata": {
            "tags": []
          },
          "execution_count": 323
        }
      ]
    },
    {
      "cell_type": "code",
      "metadata": {
        "id": "-ddA6EJWzM9a",
        "colab_type": "code",
        "outputId": "ac5d1d3b-a72d-474a-e2df-1ced63a8905e",
        "colab": {
          "base_uri": "https://localhost:8080/",
          "height": 287
        }
      },
      "source": [
        "# Create graph\n",
        "fig, ax = plt.subplots()\n",
        "fig.patch.set(facecolor='white')\n",
        "ax.set(facecolor='white')\n",
        "# Plot\n",
        "ax.barh(y = range(1,18),width = category_df['Number of Products'], color= '#3B638A')\n",
        "# Invert graph\n",
        "plt.gca().invert_yaxis()\n",
        "# Title\n",
        "ax.set_title(\"Times each Ingredient Category was used in a Supplement Label\",\n",
        "             fontsize=11, fontweight='bold', y=1.05, x=.6, color= '#616265')\n",
        "# Subtitle\n",
        "ax.text(s='Based on Dietary Supplement Label Database', y=-.70, x=-1.5, \n",
        "        fontsize=10, color= '#616265')\n",
        "# y axis label\n",
        "ax.set_ylabel('Categories of Ingredients', fontsize=10, fontweight='bold',\n",
        "              color= '#616265')\n",
        "# x axis label\n",
        "ax.set_xlabel('Number of Appearances',fontsize=10, fontweight='bold', color= '#616265')\n",
        "# x ticks\n",
        "ax.set_xticks([])\n",
        "# y tick labels\n",
        "ax.set_yticklabels(['Botanical', 'Vitamin', 'Mineral', 'Chemical', 'Fat',\n",
        "                    'Amino Acids', 'Carbohydrate', 'Fatty Acids', 'Enzyme', \n",
        "                    'Protein', 'Fiber', 'Other', 'Bacteria', 'TBD', 'Animal',\n",
        "                    'Element', 'Hormone'], color= '#616265')\n",
        "# y ticks\n",
        "ax.set_yticks(range(1,18))\n",
        "\n",
        "# Bar Labels\n",
        "ax.text(s='120923', y=1.3, x=121000, fontsize=11, color='#616265')\n",
        "ax.text(s='109257', y=2.3, x=109330, fontsize=11, color='#616265')\n",
        "ax.text(s='78445', y=3.3, x=78828, fontsize=11, color='#616265')\n",
        "ax.text(s='38903', y=4.3, x=39485, fontsize=11, color='#616265')\n",
        "ax.text(s='21004', y=5.3, x=21302, fontsize=11, color='#616265')\n",
        "ax.text(s='20064', y=6.3, x=20364, fontsize=11, color='#616265')\n",
        "ax.text(s='15200', y=7.3, x=15497, fontsize=11, color='#616265')\n",
        "ax.text(s='13504', y=8.3, x=13292, fontsize=11, color='#616265')\n",
        "ax.text(s='11861', y=9.3, x=12410, fontsize=11, color='#616265')\n",
        "ax.text(s='8514', y=10.3, x=8888, fontsize=11, color='#616265')\n",
        "ax.text(s='7084', y=11.3, x=7184, fontsize=11, color='#616265')\n",
        "ax.text(s='6754', y=12.3, x=7021, fontsize=11, color='#616265')\n",
        "ax.text(s='5349', y=13.3, x=5981, fontsize=11, color='#616265')\n",
        "ax.text(s='4281', y=14.3, x=4774, fontsize=11, color='#616265')\n",
        "ax.text(s='2696', y=15.3, x=3016, fontsize=11, color='#616265')\n",
        "ax.text(s='1719', y=16.3, x=2368, fontsize=11, color='#616265')\n",
        "ax.text(s='699', y=17.3, x=999, fontsize=11, color='#616265')\n",
        "\n",
        "\n",
        "# Fixing Spine\n",
        "ax.spines['top'].set_visible(False)\n",
        "ax.spines['bottom'].set_visible(False)\n",
        "ax.spines['left'].set_visible(False)\n",
        "ax.spines['right'].set_visible(False)\n",
        "\n",
        "#logo\n",
        "im = image.imread('nih.PNG')\n",
        "plt.figimage(im,350,25, zorder=1, alpha=0.3)\n",
        "\n",
        "#show graph\n",
        "plt.show()"
      ],
      "execution_count": 0,
      "outputs": [
        {
          "output_type": "display_data",
          "data": {
            "image/png": "[encoded data removed]",
            "text/plain": [
              "<Figure size 432x288 with 1 Axes>"
            ]
          },
          "metadata": {
            "tags": []
          }
        }
      ]
    },
    {
      "cell_type": "markdown",
      "metadata": {
        "id": "1NT4c0FyHMcb",
        "colab_type": "text"
      },
      "source": [
        "##Top Ten Ingredients Graph"
      ]
    },
    {
      "cell_type": "code",
      "metadata": {
        "id": "WOrjeG2f2jko",
        "colab_type": "code",
        "colab": {}
      },
      "source": [
        "# Getting top ingredients\n",
        "df4 = df1.nlargest(11, ['# of Products'])"
      ],
      "execution_count": 0,
      "outputs": []
    },
    {
      "cell_type": "code",
      "metadata": {
        "id": "zM4SZUttmp7D",
        "colab_type": "code",
        "outputId": "e3abb677-c5c7-48d2-f76a-1c7376827acb",
        "colab": {
          "base_uri": "https://localhost:8080/",
          "height": 370
        }
      },
      "source": [
        "#Checking dataframe\n",
        "df4"
      ],
      "execution_count": 0,
      "outputs": [
        {
          "output_type": "execute_result",
          "data": {
            "text/html": [
              "<div>\n",
              "<style scoped>\n",
              "    .dataframe tbody tr th:only-of-type {\n",
              "        vertical-align: middle;\n",
              "    }\n",
              "\n",
              "    .dataframe tbody tr th {\n",
              "        vertical-align: top;\n",
              "    }\n",
              "\n",
              "    .dataframe thead th {\n",
              "        text-align: right;\n",
              "    }\n",
              "</style>\n",
              "<table border=\"1\" class=\"dataframe\">\n",
              "  <thead>\n",
              "    <tr style=\"text-align: right;\">\n",
              "      <th></th>\n",
              "      <th>Ingredient - Group Name</th>\n",
              "      <th>CATEGORY</th>\n",
              "      <th>Synonyms/Sources</th>\n",
              "      <th># of Products</th>\n",
              "    </tr>\n",
              "  </thead>\n",
              "  <tbody>\n",
              "    <tr>\n",
              "      <th>7</th>\n",
              "      <td>Header</td>\n",
              "      <td>Header</td>\n",
              "      <td>\"(CNS) Stimulation / Focus Cocktail:\";\"(Nutrit...</td>\n",
              "      <td>16982.0</td>\n",
              "    </tr>\n",
              "    <tr>\n",
              "      <th>11</th>\n",
              "      <td>Calcium</td>\n",
              "      <td>Mineral</td>\n",
              "      <td>\"100 mg of calcium aspartate\";\"50 mg of calciu...</td>\n",
              "      <td>13177.0</td>\n",
              "    </tr>\n",
              "    <tr>\n",
              "      <th>62</th>\n",
              "      <td>Carbohydrate (unspecified)</td>\n",
              "      <td>Carbohydrate</td>\n",
              "      <td>\"added Sugar\";\"Carb.\";\"Carbohydrate\";\"Carbohyd...</td>\n",
              "      <td>12672.0</td>\n",
              "    </tr>\n",
              "    <tr>\n",
              "      <th>7</th>\n",
              "      <td>Magnesium</td>\n",
              "      <td>Mineral</td>\n",
              "      <td>\"10 mg magnesium\";\"99.9% pure Magnesium\";\"anci...</td>\n",
              "      <td>9458.0</td>\n",
              "    </tr>\n",
              "    <tr>\n",
              "      <th>4</th>\n",
              "      <td>Fat (unspecified)</td>\n",
              "      <td>Fat</td>\n",
              "      <td>\"Calories From Fat\";\"Fat\";\"Fat Total\";\"Fat, to...</td>\n",
              "      <td>8868.0</td>\n",
              "    </tr>\n",
              "    <tr>\n",
              "      <th>135</th>\n",
              "      <td>Sodium</td>\n",
              "      <td>Chemical</td>\n",
              "      <td>\"Borato de Sodio\";\"Di-Sodium Phosphate\";\"Fluor...</td>\n",
              "      <td>8653.0</td>\n",
              "    </tr>\n",
              "    <tr>\n",
              "      <th>86</th>\n",
              "      <td>Vitamin C (ascorbic acid)</td>\n",
              "      <td>Vitamin</td>\n",
              "      <td>\"Ácido ascórbico\";\"AS ACTIVE C\";\"Ascorbic Acid...</td>\n",
              "      <td>8543.0</td>\n",
              "    </tr>\n",
              "    <tr>\n",
              "      <th>3</th>\n",
              "      <td>Zinc</td>\n",
              "      <td>Mineral</td>\n",
              "      <td>\"9.75 mg of Zinc\";\"99.9% pure Zinc\";\"Cinc\";\"el...</td>\n",
              "      <td>8166.0</td>\n",
              "    </tr>\n",
              "    <tr>\n",
              "      <th>174</th>\n",
              "      <td>Potassium</td>\n",
              "      <td>Mineral</td>\n",
              "      <td>\"99.9% pure Potassium\";\"Albion Potassium Glyci...</td>\n",
              "      <td>7828.0</td>\n",
              "    </tr>\n",
              "    <tr>\n",
              "      <th>77</th>\n",
              "      <td>Vitamin B7 (biotin)</td>\n",
              "      <td>Vitamin</td>\n",
              "      <td>\"Biotin\";\"Biotin USP\";\"D-Biotin\";\"pure Biotin\"...</td>\n",
              "      <td>6068.0</td>\n",
              "    </tr>\n",
              "    <tr>\n",
              "      <th>57</th>\n",
              "      <td>Vitamin B3 (Niacin)</td>\n",
              "      <td>Vitamin</td>\n",
              "      <td>\"Niacin\";\"Nicotinic Acid\";\"Nicotinico Ac\";\"No-...</td>\n",
              "      <td>5905.0</td>\n",
              "    </tr>\n",
              "  </tbody>\n",
              "</table>\n",
              "</div>"
            ],
            "text/plain": [
              "        Ingredient - Group Name  ... # of Products\n",
              "7                        Header  ...       16982.0\n",
              "11                      Calcium  ...       13177.0\n",
              "62   Carbohydrate (unspecified)  ...       12672.0\n",
              "7                     Magnesium  ...        9458.0\n",
              "4             Fat (unspecified)  ...        8868.0\n",
              "135                      Sodium  ...        8653.0\n",
              "86   Vitamin C (ascorbic acid)   ...        8543.0\n",
              "3                          Zinc  ...        8166.0\n",
              "174                   Potassium  ...        7828.0\n",
              "77          Vitamin B7 (biotin)  ...        6068.0\n",
              "57          Vitamin B3 (Niacin)  ...        5905.0\n",
              "\n",
              "[11 rows x 4 columns]"
            ]
          },
          "metadata": {
            "tags": []
          },
          "execution_count": 359
        }
      ]
    },
    {
      "cell_type": "code",
      "metadata": {
        "id": "j7spa1xHBrv9",
        "colab_type": "code",
        "colab": {}
      },
      "source": [
        "#Removing row containing header(not an ingredient)\n",
        "df4 = df4[df4.CATEGORY != 'Header']"
      ],
      "execution_count": 0,
      "outputs": []
    },
    {
      "cell_type": "code",
      "metadata": {
        "id": "5Q7pW3zIJtfM",
        "colab_type": "code",
        "outputId": "8c160974-9921-4f26-d8b3-15e2ab94c356",
        "colab": {
          "base_uri": "https://localhost:8080/",
          "height": 340
        }
      },
      "source": [
        "# droping unwanted columns\n",
        "table = df4.drop(['Synonyms/Sources','# of Products'], axis=1)\n",
        "table"
      ],
      "execution_count": 0,
      "outputs": [
        {
          "output_type": "execute_result",
          "data": {
            "text/html": [
              "<div>\n",
              "<style scoped>\n",
              "    .dataframe tbody tr th:only-of-type {\n",
              "        vertical-align: middle;\n",
              "    }\n",
              "\n",
              "    .dataframe tbody tr th {\n",
              "        vertical-align: top;\n",
              "    }\n",
              "\n",
              "    .dataframe thead th {\n",
              "        text-align: right;\n",
              "    }\n",
              "</style>\n",
              "<table border=\"1\" class=\"dataframe\">\n",
              "  <thead>\n",
              "    <tr style=\"text-align: right;\">\n",
              "      <th></th>\n",
              "      <th>Ingredient - Group Name</th>\n",
              "      <th>CATEGORY</th>\n",
              "    </tr>\n",
              "  </thead>\n",
              "  <tbody>\n",
              "    <tr>\n",
              "      <th>11</th>\n",
              "      <td>Calcium</td>\n",
              "      <td>Mineral</td>\n",
              "    </tr>\n",
              "    <tr>\n",
              "      <th>62</th>\n",
              "      <td>Carbohydrate (unspecified)</td>\n",
              "      <td>Carbohydrate</td>\n",
              "    </tr>\n",
              "    <tr>\n",
              "      <th>7</th>\n",
              "      <td>Magnesium</td>\n",
              "      <td>Mineral</td>\n",
              "    </tr>\n",
              "    <tr>\n",
              "      <th>4</th>\n",
              "      <td>Fat (unspecified)</td>\n",
              "      <td>Fat</td>\n",
              "    </tr>\n",
              "    <tr>\n",
              "      <th>135</th>\n",
              "      <td>Sodium</td>\n",
              "      <td>Chemical</td>\n",
              "    </tr>\n",
              "    <tr>\n",
              "      <th>86</th>\n",
              "      <td>Vitamin C (ascorbic acid)</td>\n",
              "      <td>Vitamin</td>\n",
              "    </tr>\n",
              "    <tr>\n",
              "      <th>3</th>\n",
              "      <td>Zinc</td>\n",
              "      <td>Mineral</td>\n",
              "    </tr>\n",
              "    <tr>\n",
              "      <th>174</th>\n",
              "      <td>Potassium</td>\n",
              "      <td>Mineral</td>\n",
              "    </tr>\n",
              "    <tr>\n",
              "      <th>77</th>\n",
              "      <td>Vitamin B7 (biotin)</td>\n",
              "      <td>Vitamin</td>\n",
              "    </tr>\n",
              "    <tr>\n",
              "      <th>57</th>\n",
              "      <td>Vitamin B3 (Niacin)</td>\n",
              "      <td>Vitamin</td>\n",
              "    </tr>\n",
              "  </tbody>\n",
              "</table>\n",
              "</div>"
            ],
            "text/plain": [
              "        Ingredient - Group Name      CATEGORY\n",
              "11                      Calcium       Mineral\n",
              "62   Carbohydrate (unspecified)  Carbohydrate\n",
              "7                     Magnesium       Mineral\n",
              "4             Fat (unspecified)           Fat\n",
              "135                      Sodium      Chemical\n",
              "86   Vitamin C (ascorbic acid)        Vitamin\n",
              "3                          Zinc       Mineral\n",
              "174                   Potassium       Mineral\n",
              "77          Vitamin B7 (biotin)       Vitamin\n",
              "57          Vitamin B3 (Niacin)       Vitamin"
            ]
          },
          "metadata": {
            "tags": []
          },
          "execution_count": 361
        }
      ]
    },
    {
      "cell_type": "code",
      "metadata": {
        "id": "aqc13sxLNHoI",
        "colab_type": "code",
        "outputId": "20f6ff6c-11cd-44d6-fb74-a2f49a41411c",
        "colab": {
          "base_uri": "https://localhost:8080/",
          "height": 340
        }
      },
      "source": [
        "# Renaming column headers\n",
        "table.columns = ['Ingredients', 'Category']\n",
        "# Checking dataframe\n",
        "table"
      ],
      "execution_count": 0,
      "outputs": [
        {
          "output_type": "execute_result",
          "data": {
            "text/html": [
              "<div>\n",
              "<style scoped>\n",
              "    .dataframe tbody tr th:only-of-type {\n",
              "        vertical-align: middle;\n",
              "    }\n",
              "\n",
              "    .dataframe tbody tr th {\n",
              "        vertical-align: top;\n",
              "    }\n",
              "\n",
              "    .dataframe thead th {\n",
              "        text-align: right;\n",
              "    }\n",
              "</style>\n",
              "<table border=\"1\" class=\"dataframe\">\n",
              "  <thead>\n",
              "    <tr style=\"text-align: right;\">\n",
              "      <th></th>\n",
              "      <th>Ingredients</th>\n",
              "      <th>Category</th>\n",
              "    </tr>\n",
              "  </thead>\n",
              "  <tbody>\n",
              "    <tr>\n",
              "      <th>11</th>\n",
              "      <td>Calcium</td>\n",
              "      <td>Mineral</td>\n",
              "    </tr>\n",
              "    <tr>\n",
              "      <th>62</th>\n",
              "      <td>Carbohydrate (unspecified)</td>\n",
              "      <td>Carbohydrate</td>\n",
              "    </tr>\n",
              "    <tr>\n",
              "      <th>7</th>\n",
              "      <td>Magnesium</td>\n",
              "      <td>Mineral</td>\n",
              "    </tr>\n",
              "    <tr>\n",
              "      <th>4</th>\n",
              "      <td>Fat (unspecified)</td>\n",
              "      <td>Fat</td>\n",
              "    </tr>\n",
              "    <tr>\n",
              "      <th>135</th>\n",
              "      <td>Sodium</td>\n",
              "      <td>Chemical</td>\n",
              "    </tr>\n",
              "    <tr>\n",
              "      <th>86</th>\n",
              "      <td>Vitamin C (ascorbic acid)</td>\n",
              "      <td>Vitamin</td>\n",
              "    </tr>\n",
              "    <tr>\n",
              "      <th>3</th>\n",
              "      <td>Zinc</td>\n",
              "      <td>Mineral</td>\n",
              "    </tr>\n",
              "    <tr>\n",
              "      <th>174</th>\n",
              "      <td>Potassium</td>\n",
              "      <td>Mineral</td>\n",
              "    </tr>\n",
              "    <tr>\n",
              "      <th>77</th>\n",
              "      <td>Vitamin B7 (biotin)</td>\n",
              "      <td>Vitamin</td>\n",
              "    </tr>\n",
              "    <tr>\n",
              "      <th>57</th>\n",
              "      <td>Vitamin B3 (Niacin)</td>\n",
              "      <td>Vitamin</td>\n",
              "    </tr>\n",
              "  </tbody>\n",
              "</table>\n",
              "</div>"
            ],
            "text/plain": [
              "                    Ingredients      Category\n",
              "11                      Calcium       Mineral\n",
              "62   Carbohydrate (unspecified)  Carbohydrate\n",
              "7                     Magnesium       Mineral\n",
              "4             Fat (unspecified)           Fat\n",
              "135                      Sodium      Chemical\n",
              "86   Vitamin C (ascorbic acid)        Vitamin\n",
              "3                          Zinc       Mineral\n",
              "174                   Potassium       Mineral\n",
              "77          Vitamin B7 (biotin)       Vitamin\n",
              "57          Vitamin B3 (Niacin)       Vitamin"
            ]
          },
          "metadata": {
            "tags": []
          },
          "execution_count": 362
        }
      ]
    },
    {
      "cell_type": "code",
      "metadata": {
        "id": "50GIx7ifqsuw",
        "colab_type": "code",
        "outputId": "1dbc861a-fda1-4baa-b64c-c13ce1852ba5",
        "colab": {
          "base_uri": "https://localhost:8080/",
          "height": 287
        }
      },
      "source": [
        "# create graph\n",
        "fig, ax = plt.subplots()\n",
        "fig.patch.set(facecolor='white')\n",
        "ax.set(facecolor='white')\n",
        "# PLot\n",
        "ax.barh(y = range(1,11),width = df4['# of Products'], color= '#3B638A')\n",
        "# invert graph\n",
        "plt.gca().invert_yaxis()\n",
        "# title\n",
        "ax.set_title(\"Top Ten Ingredients that Appear on a label\", \n",
        "             fontsize=11, fontweight='bold', y=1.05, x=.39, color= '#616265')\n",
        "# subtitle\n",
        "ax.text(s='Based on Dietary Supplement Label Database',\n",
        "        y=-0, x=-1, fontsize=10, color= '#616265')\n",
        "# y axis\n",
        "ax.set_ylabel('Ingredients', fontsize=10, fontweight='bold', color= '#616265')\n",
        "# x axis\n",
        "ax.set_xlabel('Number of Labels', fontsize=10, fontweight='bold', color= '#616265')\n",
        "# x ticks\n",
        "ax.set_xticks([])\n",
        "#y tick labels\n",
        "ax.set_yticklabels(['Calcium', 'Carbohydrate (unspecified)', 'Magnesium',\n",
        "                    'Fat (unspecified)','Sodium','Vitamin C (ascorbic acid)',\n",
        "                    'Zinc', 'Potassium', 'Vitamin B7 (biotin)', 'Vitamin B3 (Niacin)'],\n",
        "                    color= '#616265')\n",
        "# y ticks\n",
        "ax.set_yticks(range(1,11))\n",
        "\n",
        "# bar labels\n",
        "ax.text(s='13177', y=1.2, x=13300, fontsize=11, color='#616265')\n",
        "ax.text(s='12672', y=2.2, x=12822, fontsize=11, color='#616265')\n",
        "ax.text(s='9458', y=3.2, x=9558, fontsize=11, color='#616265')\n",
        "ax.text(s='8868', y=4.2, x=9030, fontsize=11, color='#616265')\n",
        "ax.text(s='8653', y=5.2, x=8803, fontsize=11, color='#616265')\n",
        "ax.text(s='8543', y=6.2, x=8693, fontsize=11, color='#616265')\n",
        "ax.text(s='8166', y=7.2, x=8316, fontsize=11, color='#616265')\n",
        "ax.text(s='7828', y=8.2, x=7958, fontsize=11, color='#616265')\n",
        "ax.text(s='6068', y=9.2, x=6218, fontsize=11, color='#616265')\n",
        "ax.text(s='5905', y=10.2, x=6055, fontsize=11, color='#616265')\n",
        "\n",
        "\n",
        "# Fixing Spine\n",
        "ax.spines['top'].set_visible(False)\n",
        "ax.spines['bottom'].set_visible(False)\n",
        "ax.spines['left'].set_visible(False)\n",
        "ax.spines['right'].set_visible(False)\n",
        "\n",
        "# logo\n",
        "im = image.imread('nih.PNG')\n",
        "plt.figimage(im,415,25, zorder=1, alpha=0.3)\n",
        "\n",
        "# show plot\n",
        "plt.show()"
      ],
      "execution_count": 0,
      "outputs": [
        {
          "output_type": "display_data",
          "data": {
            "image/png": "[encoded data removed]",
            "text/plain": [
              "<Figure size 432x288 with 1 Axes>"
            ]
          },
          "metadata": {
            "tags": []
          }
        }
      ]
    },
    {
      "cell_type": "markdown",
      "metadata": {
        "id": "dNZfVvObHEKU",
        "colab_type": "text"
      },
      "source": [
        "##Cellucor C4 Graph"
      ]
    },
    {
      "cell_type": "code",
      "metadata": {
        "id": "wnC8sljRublI",
        "colab_type": "code",
        "colab": {}
      },
      "source": [
        "# c4 ingredient list\n",
        "c4 = [, 'Vitamin B3 (Niacinamide)', 'Vitamin B6 (pyridoxal 5-phosphate)',\n",
        "      'Folic Acid','Vitamin B12 (methylcobalamin)', 'Calcium Silicate', \n",
        "      'Beta-Alanine','Arginine Alpha Ketoglutarate', 'N-Acetyl-Tyrosine',\n",
        "      'Caffeine', 'Silicon', 'Flavors & Colors (Natural & Artificial)',\n",
        "      'Polydextrose', 'Calcium Silicate','Sucralose', 'Acesulfame potassium']"
      ],
      "execution_count": 0,
      "outputs": []
    },
    {
      "cell_type": "code",
      "metadata": {
        "id": "d9zAfYXjXKQL",
        "colab_type": "code",
        "outputId": "2e675ed3-0e96-49b8-96b2-c84d2d9d8079",
        "colab": {
          "base_uri": "https://localhost:8080/",
          "height": 458
        }
      },
      "source": [
        "# dataframe of c4 ingredients\n",
        "c4_condition = df['Ingredient - Group Name'].isin(c4)\n",
        "c4_df = df[c4_condition]\n",
        "c4_df"
      ],
      "execution_count": 0,
      "outputs": [
        {
          "output_type": "execute_result",
          "data": {
            "text/html": [
              "<div>\n",
              "<style scoped>\n",
              "    .dataframe tbody tr th:only-of-type {\n",
              "        vertical-align: middle;\n",
              "    }\n",
              "\n",
              "    .dataframe tbody tr th {\n",
              "        vertical-align: top;\n",
              "    }\n",
              "\n",
              "    .dataframe thead th {\n",
              "        text-align: right;\n",
              "    }\n",
              "</style>\n",
              "<table border=\"1\" class=\"dataframe\">\n",
              "  <thead>\n",
              "    <tr style=\"text-align: right;\">\n",
              "      <th></th>\n",
              "      <th>Ingredient - Group ID</th>\n",
              "      <th>Ingredient - Group Name</th>\n",
              "      <th>CATEGORY</th>\n",
              "      <th># of Synonyms /Sources</th>\n",
              "      <th>Synonyms/Sources</th>\n",
              "      <th># of Products</th>\n",
              "      <th># of NHANES Products</th>\n",
              "    </tr>\n",
              "  </thead>\n",
              "  <tbody>\n",
              "    <tr>\n",
              "      <th>7</th>\n",
              "      <td>1179</td>\n",
              "      <td>Acesulfame potassium</td>\n",
              "      <td>Other</td>\n",
              "      <td>1</td>\n",
              "      <td>\"Acesulfame Potassium\"</td>\n",
              "      <td>14.0</td>\n",
              "      <td>0.0</td>\n",
              "    </tr>\n",
              "    <tr>\n",
              "      <th>163</th>\n",
              "      <td>2618</td>\n",
              "      <td>Arginine Alpha Ketoglutarate</td>\n",
              "      <td>chemical</td>\n",
              "      <td>13</td>\n",
              "      <td>\"AKG\";\"Alpha Ketoisocaproate\";\"Arginine AKG 2:...</td>\n",
              "      <td>66.0</td>\n",
              "      <td>1.0</td>\n",
              "    </tr>\n",
              "    <tr>\n",
              "      <th>66</th>\n",
              "      <td>1061</td>\n",
              "      <td>Beta-Alanine</td>\n",
              "      <td>Amino Acid</td>\n",
              "      <td>26</td>\n",
              "      <td>\"3-Aminopropanoic Acid\";\"B-Alanine\";\"Beta - Aa...</td>\n",
              "      <td>1401.0</td>\n",
              "      <td>25.0</td>\n",
              "    </tr>\n",
              "    <tr>\n",
              "      <th>7</th>\n",
              "      <td>367</td>\n",
              "      <td>Caffeine</td>\n",
              "      <td>Chemical</td>\n",
              "      <td>88</td>\n",
              "      <td>\"1,3,7-Trimethyl-1H-Purine-2,6(3H,7H)-Dione\";\"...</td>\n",
              "      <td>2525.0</td>\n",
              "      <td>55.0</td>\n",
              "    </tr>\n",
              "    <tr>\n",
              "      <th>24</th>\n",
              "      <td>2689</td>\n",
              "      <td>Calcium Silicate</td>\n",
              "      <td>other</td>\n",
              "      <td>1</td>\n",
              "      <td>\"Calcium Silicate\"</td>\n",
              "      <td>2.0</td>\n",
              "      <td>1.0</td>\n",
              "    </tr>\n",
              "    <tr>\n",
              "      <th>45</th>\n",
              "      <td>2394</td>\n",
              "      <td>Flavors &amp; Colors (Natural &amp; Artificial)</td>\n",
              "      <td>other</td>\n",
              "      <td>1</td>\n",
              "      <td>\"other Natural flavors\"</td>\n",
              "      <td>3.0</td>\n",
              "      <td>0.0</td>\n",
              "    </tr>\n",
              "    <tr>\n",
              "      <th>59</th>\n",
              "      <td>189</td>\n",
              "      <td>Folic Acid</td>\n",
              "      <td>Vitamin</td>\n",
              "      <td>17</td>\n",
              "      <td>\"5-MTHF\";\"Àcido Fòlico\";\"coenzyme Folic Acid\";...</td>\n",
              "      <td>1495.0</td>\n",
              "      <td>90.0</td>\n",
              "    </tr>\n",
              "    <tr>\n",
              "      <th>3</th>\n",
              "      <td>3129</td>\n",
              "      <td>N-Acetyl-Tyrosine</td>\n",
              "      <td>chemical</td>\n",
              "      <td>6</td>\n",
              "      <td>\"N Acetyl L Tyrosine\";\"N-Acetyl L-Tyrosine\";\"N...</td>\n",
              "      <td>510.0</td>\n",
              "      <td>5.0</td>\n",
              "    </tr>\n",
              "    <tr>\n",
              "      <th>142</th>\n",
              "      <td>1857</td>\n",
              "      <td>Polydextrose</td>\n",
              "      <td>Fiber</td>\n",
              "      <td>2</td>\n",
              "      <td>\"Dextrose powder\";\"Polydextrose\"</td>\n",
              "      <td>27.0</td>\n",
              "      <td>0.0</td>\n",
              "    </tr>\n",
              "    <tr>\n",
              "      <th>115</th>\n",
              "      <td>146</td>\n",
              "      <td>Silicon</td>\n",
              "      <td>Mineral</td>\n",
              "      <td>15</td>\n",
              "      <td>\"20 mg of Silica\";\"Bamboo Silica\";\"Bamboo Sili...</td>\n",
              "      <td>989.0</td>\n",
              "      <td>175.0</td>\n",
              "    </tr>\n",
              "    <tr>\n",
              "      <th>219</th>\n",
              "      <td>1165</td>\n",
              "      <td>Sucralose</td>\n",
              "      <td>Other</td>\n",
              "      <td>2</td>\n",
              "      <td>\"Sucralose\";\"Sucrase\"</td>\n",
              "      <td>104.0</td>\n",
              "      <td>0.0</td>\n",
              "    </tr>\n",
              "    <tr>\n",
              "      <th>47</th>\n",
              "      <td>2668</td>\n",
              "      <td>Vitamin B12 (methylcobalamin)</td>\n",
              "      <td>vitamin</td>\n",
              "      <td>7</td>\n",
              "      <td>\"B12\";\"Methyl B12\";\"Methylcobalamin\";\"Vit. B12...</td>\n",
              "      <td>2150.0</td>\n",
              "      <td>48.0</td>\n",
              "    </tr>\n",
              "    <tr>\n",
              "      <th>58</th>\n",
              "      <td>2664</td>\n",
              "      <td>Vitamin B3 (Niacinamide)</td>\n",
              "      <td>vitamin</td>\n",
              "      <td>10</td>\n",
              "      <td>\"B-3\";\"B3\";\"Niacin\";\"Niacinamide\";\"Nicotinamid...</td>\n",
              "      <td>496.0</td>\n",
              "      <td>40.0</td>\n",
              "    </tr>\n",
              "    <tr>\n",
              "      <th>71</th>\n",
              "      <td>2529</td>\n",
              "      <td>Vitamin B6 (pyridoxal 5-phosphate)</td>\n",
              "      <td>vitamin</td>\n",
              "      <td>17</td>\n",
              "      <td>\"as Pyridoxal-5-Phosphate\";\"B-6\";\"coenzyme Vit...</td>\n",
              "      <td>674.0</td>\n",
              "      <td>11.0</td>\n",
              "    </tr>\n",
              "  </tbody>\n",
              "</table>\n",
              "</div>"
            ],
            "text/plain": [
              "    Ingredient - Group ID  ... # of NHANES Products\n",
              "7                    1179  ...                  0.0\n",
              "163                  2618  ...                  1.0\n",
              "66                   1061  ...                 25.0\n",
              "7                     367  ...                 55.0\n",
              "24                   2689  ...                  1.0\n",
              "45                   2394  ...                  0.0\n",
              "59                    189  ...                 90.0\n",
              "3                    3129  ...                  5.0\n",
              "142                  1857  ...                  0.0\n",
              "115                   146  ...                175.0\n",
              "219                  1165  ...                  0.0\n",
              "47                   2668  ...                 48.0\n",
              "58                   2664  ...                 40.0\n",
              "71                   2529  ...                 11.0\n",
              "\n",
              "[14 rows x 7 columns]"
            ]
          },
          "metadata": {
            "tags": []
          },
          "execution_count": 383
        }
      ]
    },
    {
      "cell_type": "code",
      "metadata": {
        "id": "ZEfeaOeeyc2n",
        "colab_type": "code",
        "outputId": "ed623bd9-095e-45c5-a391-70d0b2205b54",
        "colab": {
          "base_uri": "https://localhost:8080/",
          "height": 124
        }
      },
      "source": [
        "# Capitalizing CATEGORY column\n",
        "c4_df['CATEGORY'] = c4_df['CATEGORY'].str.capitalize()"
      ],
      "execution_count": 0,
      "outputs": [
        {
          "output_type": "stream",
          "text": [
            "/usr/local/lib/python3.6/dist-packages/ipykernel_launcher.py:1: SettingWithCopyWarning: \n",
            "A value is trying to be set on a copy of a slice from a DataFrame.\n",
            "Try using .loc[row_indexer,col_indexer] = value instead\n",
            "\n",
            "See the caveats in the documentation: http://pandas.pydata.org/pandas-docs/stable/user_guide/indexing.html#returning-a-view-versus-a-copy\n",
            "  \"\"\"Entry point for launching an IPython kernel.\n"
          ],
          "name": "stderr"
        }
      ]
    },
    {
      "cell_type": "code",
      "metadata": {
        "id": "uNKkkD7uq9MB",
        "colab_type": "code",
        "outputId": "6448256c-50a4-4425-c4c3-2ef6a87e1e82",
        "colab": {
          "base_uri": "https://localhost:8080/",
          "height": 141
        }
      },
      "source": [
        "# Amount of each category\n",
        "c4_df['CATEGORY'].value_counts()"
      ],
      "execution_count": 0,
      "outputs": [
        {
          "output_type": "execute_result",
          "data": {
            "text/plain": [
              "Vitamin       4\n",
              "Other         4\n",
              "Chemical      3\n",
              "Amino acid    1\n",
              "Fiber         1\n",
              "Mineral       1\n",
              "Name: CATEGORY, dtype: int64"
            ]
          },
          "metadata": {
            "tags": []
          },
          "execution_count": 385
        }
      ]
    },
    {
      "cell_type": "code",
      "metadata": {
        "id": "P27Swbl3t9LX",
        "colab_type": "code",
        "outputId": "93cc00df-360f-4db6-be55-8308c06038af",
        "colab": {
          "base_uri": "https://localhost:8080/",
          "height": 223
        }
      },
      "source": [
        "# value counts dataframe\n",
        "c4_df2 = pd.DataFrame(c4_df['CATEGORY'].value_counts())\n",
        "c4_df2"
      ],
      "execution_count": 0,
      "outputs": [
        {
          "output_type": "execute_result",
          "data": {
            "text/html": [
              "<div>\n",
              "<style scoped>\n",
              "    .dataframe tbody tr th:only-of-type {\n",
              "        vertical-align: middle;\n",
              "    }\n",
              "\n",
              "    .dataframe tbody tr th {\n",
              "        vertical-align: top;\n",
              "    }\n",
              "\n",
              "    .dataframe thead th {\n",
              "        text-align: right;\n",
              "    }\n",
              "</style>\n",
              "<table border=\"1\" class=\"dataframe\">\n",
              "  <thead>\n",
              "    <tr style=\"text-align: right;\">\n",
              "      <th></th>\n",
              "      <th>CATEGORY</th>\n",
              "    </tr>\n",
              "  </thead>\n",
              "  <tbody>\n",
              "    <tr>\n",
              "      <th>Vitamin</th>\n",
              "      <td>4</td>\n",
              "    </tr>\n",
              "    <tr>\n",
              "      <th>Other</th>\n",
              "      <td>4</td>\n",
              "    </tr>\n",
              "    <tr>\n",
              "      <th>Chemical</th>\n",
              "      <td>3</td>\n",
              "    </tr>\n",
              "    <tr>\n",
              "      <th>Amino acid</th>\n",
              "      <td>1</td>\n",
              "    </tr>\n",
              "    <tr>\n",
              "      <th>Fiber</th>\n",
              "      <td>1</td>\n",
              "    </tr>\n",
              "    <tr>\n",
              "      <th>Mineral</th>\n",
              "      <td>1</td>\n",
              "    </tr>\n",
              "  </tbody>\n",
              "</table>\n",
              "</div>"
            ],
            "text/plain": [
              "            CATEGORY\n",
              "Vitamin            4\n",
              "Other              4\n",
              "Chemical           3\n",
              "Amino acid         1\n",
              "Fiber              1\n",
              "Mineral            1"
            ]
          },
          "metadata": {
            "tags": []
          },
          "execution_count": 386
        }
      ]
    },
    {
      "cell_type": "code",
      "metadata": {
        "id": "FwIXWA87li5l",
        "colab_type": "code",
        "outputId": "6d0abd59-57c8-4352-e454-b7ff193186f1",
        "colab": {
          "base_uri": "https://localhost:8080/",
          "height": 287
        }
      },
      "source": [
        "# creating graph\n",
        "fig, ax = plt.subplots()\n",
        "fig.patch.set(facecolor='white')\n",
        "ax.set(facecolor='white')\n",
        "# plot\n",
        "ax.barh(y = range(1,7),width = c4_df2['CATEGORY'], color='#FFE800')\n",
        "#invert graph\n",
        "plt.gca().invert_yaxis()\n",
        "# title\n",
        "ax.set_title(\"Categories of Ingredients Cellucor C4 original contains\", \n",
        "             fontsize=11, fontweight='bold', y=1.05, x=.51, color='#000000')\n",
        "# subtitle\n",
        "ax.text(s='Based on Dietary Supplement Label Database',\n",
        "        x=0, y=.3, fontsize=10, color='#000000')\n",
        "# y axis\n",
        "ax.set_ylabel('Categories of Ingredients',\n",
        "              fontsize=10, fontweight='bold', color='#000000')\n",
        "# x axis\n",
        "ax.set_xlabel('Category Quantity', \n",
        "              fontsize=10, fontweight='bold', color='#000000')\n",
        "# x ticks\n",
        "ax.set_xticks([])\n",
        "# y tick labels\n",
        "ax.set_yticklabels(['Vitamin', 'Other', 'Chemical', 'Amino Acid', 'Fiber', \n",
        "                    'Mineral'], color='#000000')\n",
        "# y ticks\n",
        "ax.set_yticks(range(1,7))\n",
        "\n",
        "# bar labels\n",
        "ax.text(s='4', y=1.05, x=4.1, fontsize=11, color='#000000')\n",
        "ax.text(s='4', y=2.05, x=4.1, fontsize=11, color='#000000')\n",
        "ax.text(s='3', y=3.05, x=3.1, fontsize=11, color='#000000')\n",
        "ax.text(s='1', y=4.05, x=1.1, fontsize=11, color='#000000')\n",
        "ax.text(s='1', y=5.05, x=1.1, fontsize=11, color='#000000')\n",
        "ax.text(s='1', y=6.05, x=1.1, fontsize=11, color='#000000')\n",
        "\n",
        "# Fixing Spine\n",
        "ax.spines['top'].set_visible(False)\n",
        "ax.spines['bottom'].set_visible(False)\n",
        "ax.spines['left'].set_visible(False)\n",
        "ax.spines['right'].set_visible(False)\n",
        "# logo\n",
        "im = image.imread('c4logo.PNG')\n",
        "plt.figimage(im,200,25, zorder=1, alpha=0.3)\n",
        "# show plot\n",
        "plt.show()"
      ],
      "execution_count": 0,
      "outputs": [
        {
          "output_type": "display_data",
          "data": {
            "image/png": "[encoded data removed]",
            "text/plain": [
              "<Figure size 432x288 with 1 Axes>"
            ]
          },
          "metadata": {
            "tags": []
          }
        }
      ]
    },
    {
      "cell_type": "markdown",
      "metadata": {
        "id": "K9gDReCkGVgi",
        "colab_type": "text"
      },
      "source": [
        "##Optimum Nutrition Melatonin Graph"
      ]
    },
    {
      "cell_type": "code",
      "metadata": {
        "id": "UrCGYVNM4ImU",
        "colab_type": "code",
        "colab": {}
      },
      "source": [
        "# melatonin ingredient list\n",
        "mel = ['Calcium', 'Phosphorus', 'Melatonin', 'Stearic Acid',\n",
        "       'Magnesium Stearate', 'Silicon']"
      ],
      "execution_count": 0,
      "outputs": []
    },
    {
      "cell_type": "code",
      "metadata": {
        "id": "LLpiF5xv6B8N",
        "colab_type": "code",
        "outputId": "468392d7-77ee-461d-bd5b-d97929050cce",
        "colab": {
          "base_uri": "https://localhost:8080/",
          "height": 223
        }
      },
      "source": [
        "# melatonin ingredient dataframe\n",
        "mcondition = df['Ingredient - Group Name'].isin(mel)\n",
        "mel_df = df[mcondition]\n",
        "mel_df"
      ],
      "execution_count": 0,
      "outputs": [
        {
          "output_type": "execute_result",
          "data": {
            "text/html": [
              "<div>\n",
              "<style scoped>\n",
              "    .dataframe tbody tr th:only-of-type {\n",
              "        vertical-align: middle;\n",
              "    }\n",
              "\n",
              "    .dataframe tbody tr th {\n",
              "        vertical-align: top;\n",
              "    }\n",
              "\n",
              "    .dataframe thead th {\n",
              "        text-align: right;\n",
              "    }\n",
              "</style>\n",
              "<table border=\"1\" class=\"dataframe\">\n",
              "  <thead>\n",
              "    <tr style=\"text-align: right;\">\n",
              "      <th></th>\n",
              "      <th>Ingredient - Group ID</th>\n",
              "      <th>Ingredient - Group Name</th>\n",
              "      <th>CATEGORY</th>\n",
              "      <th># of Synonyms /Sources</th>\n",
              "      <th>Synonyms/Sources</th>\n",
              "      <th># of Products</th>\n",
              "      <th># of NHANES Products</th>\n",
              "    </tr>\n",
              "  </thead>\n",
              "  <tbody>\n",
              "    <tr>\n",
              "      <th>11</th>\n",
              "      <td>27</td>\n",
              "      <td>Calcium</td>\n",
              "      <td>Mineral</td>\n",
              "      <td>121</td>\n",
              "      <td>\"100 mg of calcium aspartate\";\"50 mg of calciu...</td>\n",
              "      <td>13177.0</td>\n",
              "      <td>897.0</td>\n",
              "    </tr>\n",
              "    <tr>\n",
              "      <th>18</th>\n",
              "      <td>1248</td>\n",
              "      <td>Magnesium Stearate</td>\n",
              "      <td>Chemical</td>\n",
              "      <td>3</td>\n",
              "      <td>\"Magnesium\";\"Magnesium Stearate\";\"Vegetable Ma...</td>\n",
              "      <td>34.0</td>\n",
              "      <td>4.0</td>\n",
              "    </tr>\n",
              "    <tr>\n",
              "      <th>67</th>\n",
              "      <td>517</td>\n",
              "      <td>Melatonin</td>\n",
              "      <td>Hormone</td>\n",
              "      <td>10</td>\n",
              "      <td>\"5-Methoxy-N-Acetylryptamine\";\"5-Methoxy-N-Ace...</td>\n",
              "      <td>684.0</td>\n",
              "      <td>24.0</td>\n",
              "    </tr>\n",
              "    <tr>\n",
              "      <th>95</th>\n",
              "      <td>102</td>\n",
              "      <td>Phosphorus</td>\n",
              "      <td>Mineral</td>\n",
              "      <td>11</td>\n",
              "      <td>\"Elemental Phosphorus\";\"P\";\"Phophorus\";\"Phosho...</td>\n",
              "      <td>3119.0</td>\n",
              "      <td>249.0</td>\n",
              "    </tr>\n",
              "    <tr>\n",
              "      <th>115</th>\n",
              "      <td>146</td>\n",
              "      <td>Silicon</td>\n",
              "      <td>Mineral</td>\n",
              "      <td>15</td>\n",
              "      <td>\"20 mg of Silica\";\"Bamboo Silica\";\"Bamboo Sili...</td>\n",
              "      <td>989.0</td>\n",
              "      <td>175.0</td>\n",
              "    </tr>\n",
              "    <tr>\n",
              "      <th>195</th>\n",
              "      <td>7</td>\n",
              "      <td>Stearic Acid</td>\n",
              "      <td>Fatty Acid</td>\n",
              "      <td>7</td>\n",
              "      <td>\"18:0 Stearic Acid\";\"Octadecanoic Acid\";\"Stear...</td>\n",
              "      <td>114.0</td>\n",
              "      <td>8.0</td>\n",
              "    </tr>\n",
              "  </tbody>\n",
              "</table>\n",
              "</div>"
            ],
            "text/plain": [
              "    Ingredient - Group ID  ... # of NHANES Products\n",
              "11                     27  ...                897.0\n",
              "18                   1248  ...                  4.0\n",
              "67                    517  ...                 24.0\n",
              "95                    102  ...                249.0\n",
              "115                   146  ...                175.0\n",
              "195                     7  ...                  8.0\n",
              "\n",
              "[6 rows x 7 columns]"
            ]
          },
          "metadata": {
            "tags": []
          },
          "execution_count": 388
        }
      ]
    },
    {
      "cell_type": "code",
      "metadata": {
        "id": "FBd4UQSB6B2M",
        "colab_type": "code",
        "outputId": "b8503ae6-6163-4b06-f823-51791967fb30",
        "colab": {
          "base_uri": "https://localhost:8080/",
          "height": 164
        }
      },
      "source": [
        "# category value counts dataframe\n",
        "mel_df2 = pd.DataFrame(mel_df['CATEGORY'].value_counts())\n",
        "mel_df2"
      ],
      "execution_count": 0,
      "outputs": [
        {
          "output_type": "execute_result",
          "data": {
            "text/html": [
              "<div>\n",
              "<style scoped>\n",
              "    .dataframe tbody tr th:only-of-type {\n",
              "        vertical-align: middle;\n",
              "    }\n",
              "\n",
              "    .dataframe tbody tr th {\n",
              "        vertical-align: top;\n",
              "    }\n",
              "\n",
              "    .dataframe thead th {\n",
              "        text-align: right;\n",
              "    }\n",
              "</style>\n",
              "<table border=\"1\" class=\"dataframe\">\n",
              "  <thead>\n",
              "    <tr style=\"text-align: right;\">\n",
              "      <th></th>\n",
              "      <th>CATEGORY</th>\n",
              "    </tr>\n",
              "  </thead>\n",
              "  <tbody>\n",
              "    <tr>\n",
              "      <th>Mineral</th>\n",
              "      <td>3</td>\n",
              "    </tr>\n",
              "    <tr>\n",
              "      <th>Hormone</th>\n",
              "      <td>1</td>\n",
              "    </tr>\n",
              "    <tr>\n",
              "      <th>Fatty Acid</th>\n",
              "      <td>1</td>\n",
              "    </tr>\n",
              "    <tr>\n",
              "      <th>Chemical</th>\n",
              "      <td>1</td>\n",
              "    </tr>\n",
              "  </tbody>\n",
              "</table>\n",
              "</div>"
            ],
            "text/plain": [
              "            CATEGORY\n",
              "Mineral            3\n",
              "Hormone            1\n",
              "Fatty Acid         1\n",
              "Chemical           1"
            ]
          },
          "metadata": {
            "tags": []
          },
          "execution_count": 316
        }
      ]
    },
    {
      "cell_type": "code",
      "metadata": {
        "id": "BanzW35f6Bru",
        "colab_type": "code",
        "outputId": "e72f1fdb-fa97-4d1d-fb90-c1693985e72d",
        "colab": {
          "base_uri": "https://localhost:8080/",
          "height": 287
        }
      },
      "source": [
        "# create graph\n",
        "fig, ax = plt.subplots()\n",
        "fig.patch.set(facecolor='white')\n",
        "ax.set(facecolor='white')\n",
        "# plot\n",
        "ax.barh(y = range(1,5),width = mel_df2['CATEGORY'], color='#CE0E0E')\n",
        "# invert graph\n",
        "plt.gca().invert_yaxis()\n",
        "# title\n",
        "ax.set_title(\"Categories of Ingredients Optimum Nutrition Melatonin contains\", \n",
        "             fontsize=11, fontweight='bold', y=1.05, x=.595, color='#010101')\n",
        "# subtitle\n",
        "ax.text(s='Based on Dietary Supplement Label Database',\n",
        "        x=0, y=.3, fontsize=10, color='#010101')\n",
        "# y axis\n",
        "ax.set_ylabel('Categories of Ingredients', \n",
        "              fontsize=10, fontweight='bold', color='#010101')\n",
        "# x axis\n",
        "ax.set_xlabel('Category Quantity', \n",
        "              fontsize=10, fontweight='bold', color='#010101')\n",
        "# x ticks\n",
        "ax.set_xticks([])\n",
        "# y ticks labels\n",
        "ax.set_yticklabels(['Mineral', 'Fatty Acid', 'Chemical', 'Hormone'],\n",
        "                   color='#010101')\n",
        "# y ticks\n",
        "ax.set_yticks(range(1,5))\n",
        "# bar labels\n",
        "ax.text(s='3', y=1.05, x=3.05, fontsize=11, color='#010101')\n",
        "ax.text(s='1', y=2.05, x=1.05, fontsize=11, color='#010101')\n",
        "ax.text(s='1', y=3.05, x=1.05, fontsize=11, color='#010101')\n",
        "ax.text(s='1', y=4.05, x=1.05, fontsize=11, color='#010101')\n",
        "\n",
        "# Fixing Spine\n",
        "ax.spines['top'].set_visible(False)\n",
        "ax.spines['bottom'].set_visible(False)\n",
        "ax.spines['left'].set_visible(False)\n",
        "ax.spines['right'].set_visible(False)\n",
        "# logo\n",
        "im = image.imread('onlogo.PNG')\n",
        "plt.figimage(im,200,25, zorder=1, alpha=0.3)\n",
        "# show plot\n",
        "plt.show()"
      ],
      "execution_count": 0,
      "outputs": [
        {
          "output_type": "display_data",
          "data": {
            "image/png": "[encoded data removed]",
            "text/plain": [
              "<Figure size 432x288 with 1 Axes>"
            ]
          },
          "metadata": {
            "tags": []
          }
        }
      ]
    },
    {
      "cell_type": "markdown",
      "metadata": {
        "id": "vwNWwdCMGMVZ",
        "colab_type": "text"
      },
      "source": [
        "# Hydroxycut Graph"
      ]
    },
    {
      "cell_type": "code",
      "metadata": {
        "id": "F7wSOTtI9Xxp",
        "colab_type": "code",
        "colab": {}
      },
      "source": [
        "# hydroxycut ingredients\n",
        "hc = ['Robusta Coffee', 'Caffeine', 'Forskolin', 'Skullcap', 'Yohimbe',\n",
        "      'Dwarf lilyturf', 'Guayusa', 'Gelatin', 'Titanium Dioxide',\n",
        "      'Flavors & Colors (Natural & Artificial)', 'Magnesium Stearate', 'Silicon']"
      ],
      "execution_count": 0,
      "outputs": []
    },
    {
      "cell_type": "code",
      "metadata": {
        "id": "k85ECNxS_cFP",
        "colab_type": "code",
        "outputId": "0edb615d-34bb-4974-ffa5-0cca55f4f5f3",
        "colab": {
          "base_uri": "https://localhost:8080/",
          "height": 399
        }
      },
      "source": [
        "# hydroxycut ingredient dataframe\n",
        "hccondition = df['Ingredient - Group Name'].isin(hc)\n",
        "hc_df = df[hccondition]\n",
        "hc_df"
      ],
      "execution_count": 0,
      "outputs": [
        {
          "output_type": "execute_result",
          "data": {
            "text/html": [
              "<div>\n",
              "<style scoped>\n",
              "    .dataframe tbody tr th:only-of-type {\n",
              "        vertical-align: middle;\n",
              "    }\n",
              "\n",
              "    .dataframe tbody tr th {\n",
              "        vertical-align: top;\n",
              "    }\n",
              "\n",
              "    .dataframe thead th {\n",
              "        text-align: right;\n",
              "    }\n",
              "</style>\n",
              "<table border=\"1\" class=\"dataframe\">\n",
              "  <thead>\n",
              "    <tr style=\"text-align: right;\">\n",
              "      <th></th>\n",
              "      <th>Ingredient - Group ID</th>\n",
              "      <th>Ingredient - Group Name</th>\n",
              "      <th>CATEGORY</th>\n",
              "      <th># of Synonyms /Sources</th>\n",
              "      <th>Synonyms/Sources</th>\n",
              "      <th># of Products</th>\n",
              "      <th># of NHANES Products</th>\n",
              "    </tr>\n",
              "  </thead>\n",
              "  <tbody>\n",
              "    <tr>\n",
              "      <th>7</th>\n",
              "      <td>367</td>\n",
              "      <td>Caffeine</td>\n",
              "      <td>Chemical</td>\n",
              "      <td>88</td>\n",
              "      <td>\"1,3,7-Trimethyl-1H-Purine-2,6(3H,7H)-Dione\";\"...</td>\n",
              "      <td>2525.0</td>\n",
              "      <td>55.0</td>\n",
              "    </tr>\n",
              "    <tr>\n",
              "      <th>86</th>\n",
              "      <td>3038</td>\n",
              "      <td>Dwarf lilyturf</td>\n",
              "      <td>botanical</td>\n",
              "      <td>4</td>\n",
              "      <td>\"Ophiopogan\";\"Ophiopogon\";\"Ophiopogon extract\"...</td>\n",
              "      <td>36.0</td>\n",
              "      <td>0.0</td>\n",
              "    </tr>\n",
              "    <tr>\n",
              "      <th>45</th>\n",
              "      <td>2394</td>\n",
              "      <td>Flavors &amp; Colors (Natural &amp; Artificial)</td>\n",
              "      <td>other</td>\n",
              "      <td>1</td>\n",
              "      <td>\"other Natural flavors\"</td>\n",
              "      <td>3.0</td>\n",
              "      <td>0.0</td>\n",
              "    </tr>\n",
              "    <tr>\n",
              "      <th>65</th>\n",
              "      <td>151</td>\n",
              "      <td>Forskolin</td>\n",
              "      <td>Chemical</td>\n",
              "      <td>42</td>\n",
              "      <td>\"10 mg Forskolin\";\"active Forskolin\";\"Choleus ...</td>\n",
              "      <td>120.0</td>\n",
              "      <td>1.0</td>\n",
              "    </tr>\n",
              "    <tr>\n",
              "      <th>28</th>\n",
              "      <td>655</td>\n",
              "      <td>Gelatin</td>\n",
              "      <td>Protein</td>\n",
              "      <td>15</td>\n",
              "      <td>\"Beef Gelatin\";\"Beef Gelatin Powder\";\"Bovine C...</td>\n",
              "      <td>260.0</td>\n",
              "      <td>40.0</td>\n",
              "    </tr>\n",
              "    <tr>\n",
              "      <th>127</th>\n",
              "      <td>2929</td>\n",
              "      <td>Guayusa</td>\n",
              "      <td>botanical</td>\n",
              "      <td>5</td>\n",
              "      <td>\"Guayusa\";\"Guayusa extract\";\"Ilex guayusa extr...</td>\n",
              "      <td>15.0</td>\n",
              "      <td>0.0</td>\n",
              "    </tr>\n",
              "    <tr>\n",
              "      <th>18</th>\n",
              "      <td>1248</td>\n",
              "      <td>Magnesium Stearate</td>\n",
              "      <td>Chemical</td>\n",
              "      <td>3</td>\n",
              "      <td>\"Magnesium\";\"Magnesium Stearate\";\"Vegetable Ma...</td>\n",
              "      <td>34.0</td>\n",
              "      <td>4.0</td>\n",
              "    </tr>\n",
              "    <tr>\n",
              "      <th>53</th>\n",
              "      <td>2993</td>\n",
              "      <td>Robusta Coffee</td>\n",
              "      <td>botanical</td>\n",
              "      <td>7</td>\n",
              "      <td>\"C. canephora robusta\";\"C. canephora robusta b...</td>\n",
              "      <td>24.0</td>\n",
              "      <td>1.0</td>\n",
              "    </tr>\n",
              "    <tr>\n",
              "      <th>115</th>\n",
              "      <td>146</td>\n",
              "      <td>Silicon</td>\n",
              "      <td>Mineral</td>\n",
              "      <td>15</td>\n",
              "      <td>\"20 mg of Silica\";\"Bamboo Silica\";\"Bamboo Sili...</td>\n",
              "      <td>989.0</td>\n",
              "      <td>175.0</td>\n",
              "    </tr>\n",
              "    <tr>\n",
              "      <th>129</th>\n",
              "      <td>230</td>\n",
              "      <td>Skullcap</td>\n",
              "      <td>Botanical</td>\n",
              "      <td>38</td>\n",
              "      <td>\"American Skullcap\";\"Baikal Skullcap\";\"Blue sk...</td>\n",
              "      <td>254.0</td>\n",
              "      <td>6.0</td>\n",
              "    </tr>\n",
              "    <tr>\n",
              "      <th>51</th>\n",
              "      <td>1166</td>\n",
              "      <td>Titanium Dioxide</td>\n",
              "      <td>Chemical</td>\n",
              "      <td>1</td>\n",
              "      <td>\"Titanium Oxide\"</td>\n",
              "      <td>1.0</td>\n",
              "      <td>0.0</td>\n",
              "    </tr>\n",
              "    <tr>\n",
              "      <th>15</th>\n",
              "      <td>138</td>\n",
              "      <td>Yohimbe</td>\n",
              "      <td>Botanical</td>\n",
              "      <td>47</td>\n",
              "      <td>\"112.5 mg Yohimbe Extract\";\"17a-Hydroxy-Yohimb...</td>\n",
              "      <td>579.0</td>\n",
              "      <td>25.0</td>\n",
              "    </tr>\n",
              "  </tbody>\n",
              "</table>\n",
              "</div>"
            ],
            "text/plain": [
              "    Ingredient - Group ID  ... # of NHANES Products\n",
              "7                     367  ...                 55.0\n",
              "86                   3038  ...                  0.0\n",
              "45                   2394  ...                  0.0\n",
              "65                    151  ...                  1.0\n",
              "28                    655  ...                 40.0\n",
              "127                  2929  ...                  0.0\n",
              "18                   1248  ...                  4.0\n",
              "53                   2993  ...                  1.0\n",
              "115                   146  ...                175.0\n",
              "129                   230  ...                  6.0\n",
              "51                   1166  ...                  0.0\n",
              "15                    138  ...                 25.0\n",
              "\n",
              "[12 rows x 7 columns]"
            ]
          },
          "metadata": {
            "tags": []
          },
          "execution_count": 392
        }
      ]
    },
    {
      "cell_type": "code",
      "metadata": {
        "id": "b5H15ZpS_b-9",
        "colab_type": "code",
        "outputId": "705da700-a45e-424b-9048-72d67705f5d9",
        "colab": {
          "base_uri": "https://localhost:8080/",
          "height": 124
        }
      },
      "source": [
        "# Capitalizing CATEGORY column\n",
        "hc_df['CATEGORY'] = hc_df['CATEGORY'].str.capitalize()"
      ],
      "execution_count": 0,
      "outputs": [
        {
          "output_type": "stream",
          "text": [
            "/usr/local/lib/python3.6/dist-packages/ipykernel_launcher.py:1: SettingWithCopyWarning: \n",
            "A value is trying to be set on a copy of a slice from a DataFrame.\n",
            "Try using .loc[row_indexer,col_indexer] = value instead\n",
            "\n",
            "See the caveats in the documentation: http://pandas.pydata.org/pandas-docs/stable/user_guide/indexing.html#returning-a-view-versus-a-copy\n",
            "  \"\"\"Entry point for launching an IPython kernel.\n"
          ],
          "name": "stderr"
        }
      ]
    },
    {
      "cell_type": "code",
      "metadata": {
        "id": "LB04-ImQ_b0l",
        "colab_type": "code",
        "outputId": "88e859f3-5ba3-4078-d1ac-ad719bd94858",
        "colab": {
          "base_uri": "https://localhost:8080/",
          "height": 194
        }
      },
      "source": [
        "# category value counts dataframe\n",
        "hc_df2 = pd.DataFrame(hc_df['CATEGORY'].value_counts())\n",
        "hc_df2"
      ],
      "execution_count": 0,
      "outputs": [
        {
          "output_type": "execute_result",
          "data": {
            "text/html": [
              "<div>\n",
              "<style scoped>\n",
              "    .dataframe tbody tr th:only-of-type {\n",
              "        vertical-align: middle;\n",
              "    }\n",
              "\n",
              "    .dataframe tbody tr th {\n",
              "        vertical-align: top;\n",
              "    }\n",
              "\n",
              "    .dataframe thead th {\n",
              "        text-align: right;\n",
              "    }\n",
              "</style>\n",
              "<table border=\"1\" class=\"dataframe\">\n",
              "  <thead>\n",
              "    <tr style=\"text-align: right;\">\n",
              "      <th></th>\n",
              "      <th>CATEGORY</th>\n",
              "    </tr>\n",
              "  </thead>\n",
              "  <tbody>\n",
              "    <tr>\n",
              "      <th>Botanical</th>\n",
              "      <td>5</td>\n",
              "    </tr>\n",
              "    <tr>\n",
              "      <th>Chemical</th>\n",
              "      <td>4</td>\n",
              "    </tr>\n",
              "    <tr>\n",
              "      <th>Protein</th>\n",
              "      <td>1</td>\n",
              "    </tr>\n",
              "    <tr>\n",
              "      <th>Other</th>\n",
              "      <td>1</td>\n",
              "    </tr>\n",
              "    <tr>\n",
              "      <th>Mineral</th>\n",
              "      <td>1</td>\n",
              "    </tr>\n",
              "  </tbody>\n",
              "</table>\n",
              "</div>"
            ],
            "text/plain": [
              "           CATEGORY\n",
              "Botanical         5\n",
              "Chemical          4\n",
              "Protein           1\n",
              "Other             1\n",
              "Mineral           1"
            ]
          },
          "metadata": {
            "tags": []
          },
          "execution_count": 394
        }
      ]
    },
    {
      "cell_type": "code",
      "metadata": {
        "id": "h24Hkr4pAADn",
        "colab_type": "code",
        "outputId": "d5142fdf-aed9-4b42-cfcc-8af36fb75ebf",
        "colab": {
          "base_uri": "https://localhost:8080/",
          "height": 287
        }
      },
      "source": [
        "# create graph\n",
        "fig, ax = plt.subplots()\n",
        "fig.patch.set(facecolor='white')\n",
        "ax.set(facecolor='white')\n",
        "# plot\n",
        "ax.barh(y = range(1,6),width = hc_df2['CATEGORY'], color='#C9001F')\n",
        "#invert graph\n",
        "plt.gca().invert_yaxis()\n",
        "# title\n",
        "ax.set_title(\"Categories of Ingredients Hydroxycut Hardcore Elite contains\", \n",
        "             fontsize=11, fontweight='bold', y=1.05, x=.57, color='#0B0B0B')\n",
        "# subtitle\n",
        "ax.text(s='Based on Dietary Supplement Label Database',\n",
        "        x=0, y=.3, fontsize=10, color='#0B0B0B')\n",
        "# y axis\n",
        "ax.set_ylabel('Categories of Ingredients',\n",
        "              fontsize=10, fontweight='bold', color='#0B0B0B')\n",
        "# x axis\n",
        "ax.set_xlabel('Category Quantity', \n",
        "              fontsize=10, fontweight='bold', color='#0B0B0B')\n",
        "# x ticks\n",
        "ax.set_xticks([])\n",
        "# y tick labels\n",
        "ax.set_yticklabels(['Botanical', 'Chemical', 'Mineral', 'Other', 'Protein'],\n",
        "                   color='#0B0B0B')\n",
        "# y ticks\n",
        "ax.set_yticks(range(1,6))\n",
        "# bar labels\n",
        "ax.text(s='5', y=1.05, x=5.1, fontsize=11, color='#0B0B0B')\n",
        "ax.text(s='4', y=2.05, x=4.1, fontsize=11, color='#0B0B0B')\n",
        "ax.text(s='1', y=3.05, x=1.1, fontsize=11, color='#0B0B0B')\n",
        "ax.text(s='1', y=4.05, x=1.1, fontsize=11, color='#0B0B0B')\n",
        "ax.text(s='1', y=5.05, x=1.1, fontsize=11, color='#0B0B0B')\n",
        "\n",
        "# Fixing Spine\n",
        "ax.spines['top'].set_visible(False)\n",
        "ax.spines['bottom'].set_visible(False)\n",
        "ax.spines['left'].set_visible(False)\n",
        "ax.spines['right'].set_visible(False)\n",
        "#logo\n",
        "im = image.imread('hclogo.PNG')\n",
        "plt.figimage(im,245,25, zorder=1, alpha=0.3)\n",
        "# show plot\n",
        "plt.show()"
      ],
      "execution_count": 0,
      "outputs": [
        {
          "output_type": "display_data",
          "data": {
            "image/png": "[encoded data removed]",
            "text/plain": [
              "<Figure size 432x288 with 1 Axes>"
            ]
          },
          "metadata": {
            "tags": []
          }
        }
      ]
    }
  ]
}